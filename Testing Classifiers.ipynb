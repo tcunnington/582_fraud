{
 "cells": [
  {
   "cell_type": "code",
   "execution_count": 1,
   "metadata": {
    "collapsed": true
   },
   "outputs": [],
   "source": [
    "%load_ext autoreload\n",
    "%autoreload 2\n",
    "# %autoreload # reloads modules\n",
    "# %aimport # lists what it will/won't reload\n",
    "\n",
    "import pandas as pd\n",
    "import numpy as np\n",
    "import matplotlib.pyplot as plt\n",
    "import sklearn\n",
    "from sklearn import linear_model, decomposition, datasets\n",
    "from sklearn.model_selection import train_test_split\n",
    "\n",
    "from utils import *"
   ]
  },
  {
   "cell_type": "markdown",
   "metadata": {},
   "source": [
    "### Test multiple classification methods with the original data"
   ]
  },
  {
   "cell_type": "code",
   "execution_count": 2,
   "metadata": {},
   "outputs": [
    {
     "data": {
      "text/html": [
       "<div>\n",
       "<style>\n",
       "    .dataframe thead tr:only-child th {\n",
       "        text-align: right;\n",
       "    }\n",
       "\n",
       "    .dataframe thead th {\n",
       "        text-align: left;\n",
       "    }\n",
       "\n",
       "    .dataframe tbody tr th {\n",
       "        vertical-align: top;\n",
       "    }\n",
       "</style>\n",
       "<table border=\"1\" class=\"dataframe\">\n",
       "  <thead>\n",
       "    <tr style=\"text-align: right;\">\n",
       "      <th></th>\n",
       "      <th>Time</th>\n",
       "      <th>V1</th>\n",
       "      <th>V2</th>\n",
       "      <th>V3</th>\n",
       "      <th>V4</th>\n",
       "      <th>V5</th>\n",
       "      <th>V6</th>\n",
       "      <th>V7</th>\n",
       "      <th>V8</th>\n",
       "      <th>V9</th>\n",
       "      <th>...</th>\n",
       "      <th>V21</th>\n",
       "      <th>V22</th>\n",
       "      <th>V23</th>\n",
       "      <th>V24</th>\n",
       "      <th>V25</th>\n",
       "      <th>V26</th>\n",
       "      <th>V27</th>\n",
       "      <th>V28</th>\n",
       "      <th>Amount</th>\n",
       "      <th>Class</th>\n",
       "    </tr>\n",
       "  </thead>\n",
       "  <tbody>\n",
       "    <tr>\n",
       "      <th>0</th>\n",
       "      <td>0.0</td>\n",
       "      <td>-1.359807</td>\n",
       "      <td>-0.072781</td>\n",
       "      <td>2.536347</td>\n",
       "      <td>1.378155</td>\n",
       "      <td>-0.338321</td>\n",
       "      <td>0.462388</td>\n",
       "      <td>0.239599</td>\n",
       "      <td>0.098698</td>\n",
       "      <td>0.363787</td>\n",
       "      <td>...</td>\n",
       "      <td>-0.018307</td>\n",
       "      <td>0.277838</td>\n",
       "      <td>-0.110474</td>\n",
       "      <td>0.066928</td>\n",
       "      <td>0.128539</td>\n",
       "      <td>-0.189115</td>\n",
       "      <td>0.133558</td>\n",
       "      <td>-0.021053</td>\n",
       "      <td>149.62</td>\n",
       "      <td>0</td>\n",
       "    </tr>\n",
       "    <tr>\n",
       "      <th>1</th>\n",
       "      <td>0.0</td>\n",
       "      <td>1.191857</td>\n",
       "      <td>0.266151</td>\n",
       "      <td>0.166480</td>\n",
       "      <td>0.448154</td>\n",
       "      <td>0.060018</td>\n",
       "      <td>-0.082361</td>\n",
       "      <td>-0.078803</td>\n",
       "      <td>0.085102</td>\n",
       "      <td>-0.255425</td>\n",
       "      <td>...</td>\n",
       "      <td>-0.225775</td>\n",
       "      <td>-0.638672</td>\n",
       "      <td>0.101288</td>\n",
       "      <td>-0.339846</td>\n",
       "      <td>0.167170</td>\n",
       "      <td>0.125895</td>\n",
       "      <td>-0.008983</td>\n",
       "      <td>0.014724</td>\n",
       "      <td>2.69</td>\n",
       "      <td>0</td>\n",
       "    </tr>\n",
       "    <tr>\n",
       "      <th>2</th>\n",
       "      <td>1.0</td>\n",
       "      <td>-1.358354</td>\n",
       "      <td>-1.340163</td>\n",
       "      <td>1.773209</td>\n",
       "      <td>0.379780</td>\n",
       "      <td>-0.503198</td>\n",
       "      <td>1.800499</td>\n",
       "      <td>0.791461</td>\n",
       "      <td>0.247676</td>\n",
       "      <td>-1.514654</td>\n",
       "      <td>...</td>\n",
       "      <td>0.247998</td>\n",
       "      <td>0.771679</td>\n",
       "      <td>0.909412</td>\n",
       "      <td>-0.689281</td>\n",
       "      <td>-0.327642</td>\n",
       "      <td>-0.139097</td>\n",
       "      <td>-0.055353</td>\n",
       "      <td>-0.059752</td>\n",
       "      <td>378.66</td>\n",
       "      <td>0</td>\n",
       "    </tr>\n",
       "    <tr>\n",
       "      <th>3</th>\n",
       "      <td>1.0</td>\n",
       "      <td>-0.966272</td>\n",
       "      <td>-0.185226</td>\n",
       "      <td>1.792993</td>\n",
       "      <td>-0.863291</td>\n",
       "      <td>-0.010309</td>\n",
       "      <td>1.247203</td>\n",
       "      <td>0.237609</td>\n",
       "      <td>0.377436</td>\n",
       "      <td>-1.387024</td>\n",
       "      <td>...</td>\n",
       "      <td>-0.108300</td>\n",
       "      <td>0.005274</td>\n",
       "      <td>-0.190321</td>\n",
       "      <td>-1.175575</td>\n",
       "      <td>0.647376</td>\n",
       "      <td>-0.221929</td>\n",
       "      <td>0.062723</td>\n",
       "      <td>0.061458</td>\n",
       "      <td>123.50</td>\n",
       "      <td>0</td>\n",
       "    </tr>\n",
       "    <tr>\n",
       "      <th>4</th>\n",
       "      <td>2.0</td>\n",
       "      <td>-1.158233</td>\n",
       "      <td>0.877737</td>\n",
       "      <td>1.548718</td>\n",
       "      <td>0.403034</td>\n",
       "      <td>-0.407193</td>\n",
       "      <td>0.095921</td>\n",
       "      <td>0.592941</td>\n",
       "      <td>-0.270533</td>\n",
       "      <td>0.817739</td>\n",
       "      <td>...</td>\n",
       "      <td>-0.009431</td>\n",
       "      <td>0.798278</td>\n",
       "      <td>-0.137458</td>\n",
       "      <td>0.141267</td>\n",
       "      <td>-0.206010</td>\n",
       "      <td>0.502292</td>\n",
       "      <td>0.219422</td>\n",
       "      <td>0.215153</td>\n",
       "      <td>69.99</td>\n",
       "      <td>0</td>\n",
       "    </tr>\n",
       "  </tbody>\n",
       "</table>\n",
       "<p>5 rows × 31 columns</p>\n",
       "</div>"
      ],
      "text/plain": [
       "   Time        V1        V2        V3        V4        V5        V6        V7  \\\n",
       "0   0.0 -1.359807 -0.072781  2.536347  1.378155 -0.338321  0.462388  0.239599   \n",
       "1   0.0  1.191857  0.266151  0.166480  0.448154  0.060018 -0.082361 -0.078803   \n",
       "2   1.0 -1.358354 -1.340163  1.773209  0.379780 -0.503198  1.800499  0.791461   \n",
       "3   1.0 -0.966272 -0.185226  1.792993 -0.863291 -0.010309  1.247203  0.237609   \n",
       "4   2.0 -1.158233  0.877737  1.548718  0.403034 -0.407193  0.095921  0.592941   \n",
       "\n",
       "         V8        V9  ...         V21       V22       V23       V24  \\\n",
       "0  0.098698  0.363787  ...   -0.018307  0.277838 -0.110474  0.066928   \n",
       "1  0.085102 -0.255425  ...   -0.225775 -0.638672  0.101288 -0.339846   \n",
       "2  0.247676 -1.514654  ...    0.247998  0.771679  0.909412 -0.689281   \n",
       "3  0.377436 -1.387024  ...   -0.108300  0.005274 -0.190321 -1.175575   \n",
       "4 -0.270533  0.817739  ...   -0.009431  0.798278 -0.137458  0.141267   \n",
       "\n",
       "        V25       V26       V27       V28  Amount  Class  \n",
       "0  0.128539 -0.189115  0.133558 -0.021053  149.62      0  \n",
       "1  0.167170  0.125895 -0.008983  0.014724    2.69      0  \n",
       "2 -0.327642 -0.139097 -0.055353 -0.059752  378.66      0  \n",
       "3  0.647376 -0.221929  0.062723  0.061458  123.50      0  \n",
       "4 -0.206010  0.502292  0.219422  0.215153   69.99      0  \n",
       "\n",
       "[5 rows x 31 columns]"
      ]
     },
     "execution_count": 2,
     "metadata": {},
     "output_type": "execute_result"
    }
   ],
   "source": [
    "data = pd.read_csv('data/creditcard.csv')\n",
    "data.head()"
   ]
  },
  {
   "cell_type": "markdown",
   "metadata": {},
   "source": [
    "Clearly feature engineering isn't really an option here since we are dealing with SVD modes.\n",
    "\n",
    "\n",
    "| Columns       | Description |\n",
    "|:------------- |:-------------|\n",
    "| amount        | amount of transaction in cents|\n",
    "| time          | time of transaction in seconds|\n",
    "| class         | boolean fraudulent/legitimate-->1/0|\n",
    "| V\\*           | SVD features (US in svd USV')|"
   ]
  },
  {
   "cell_type": "code",
   "execution_count": 3,
   "metadata": {
    "collapsed": true
   },
   "outputs": [],
   "source": [
    "fradulent = data[data['Class'] == 1]\n",
    "legit = data[data['Class'] == 0]"
   ]
  },
  {
   "cell_type": "code",
   "execution_count": 4,
   "metadata": {},
   "outputs": [
    {
     "data": {
      "image/png": "[encoded data removed]",
      "text/plain": [
       "<matplotlib.figure.Figure at 0x11288fed0>"
      ]
     },
     "metadata": {},
     "output_type": "display_data"
    }
   ],
   "source": [
    "ax = plot_features('Amount','V1',data)\n",
    "plt.show()"
   ]
  },
  {
   "cell_type": "code",
   "execution_count": 5,
   "metadata": {},
   "outputs": [
    {
     "data": {
      "image/png": "[encoded data removed]",
      "text/plain": [
       "<matplotlib.figure.Figure at 0x113b78450>"
      ]
     },
     "metadata": {},
     "output_type": "display_data"
    }
   ],
   "source": [
    "col_names = list(data.columns)[1:-1] ## TODO what is this?\n",
    "tile_random_features(col_names, data)\n",
    "# list(np.random.choice(col_names, 2, replace=False)) + ['squat']"
   ]
  },
  {
   "cell_type": "markdown",
   "metadata": {},
   "source": [
    "Data often doesn't look very Gaussian does it... We would expect those appraoches to be bad. We could try to restrict outselves to set of features that do look roughly gaussian.. but since that's prolly hard it's prolly best to simply use it naively and accept that it won't work very well.\n",
    "\n",
    "KNN looks like a much more promising approach, granted we alter the cost function to predict the minority class when there are verrry few within the nearest k (maybe 1..). This sounds like a recipe for overfitting however. Perhaps to match this with SMOTE would make for good results.\n",
    "\n",
    "SVM, or really any linear classifier, looks like it would perform poorly."
   ]
  },
  {
   "cell_type": "markdown",
   "metadata": {},
   "source": [
    "#### Prep data"
   ]
  },
  {
   "cell_type": "code",
   "execution_count": 6,
   "metadata": {},
   "outputs": [
    {
     "name": "stdout",
     "output_type": "stream",
     "text": [
      "% of fraud cases in original, train, and test sets:\n",
      "0.00172748563062\n",
      "0.00170291206741\n",
      "0.00182577858923\n"
     ]
    }
   ],
   "source": [
    "train, test = train_test_split(data, test_size=0.2)\n",
    "\n",
    "print '% of fraud cases in original, train, and test sets:'\n",
    "print len(fradulent)*1.0/len(data)\n",
    "print len(train[train['Class']==1])*1.0/len(train)\n",
    "print len(test[test['Class']==1])*1.0/len(test)"
   ]
  },
  {
   "cell_type": "code",
   "execution_count": 7,
   "metadata": {
    "collapsed": true
   },
   "outputs": [],
   "source": [
    "# Split into features / class labels\n",
    "train_x, train_y = [df.as_matrix() for df in split_class(train)]\n",
    "test_x, test_y = [df.as_matrix() for df in split_class(test)]\n",
    "X, y = [df.as_matrix() for df in split_class(data)]"
   ]
  },
  {
   "cell_type": "markdown",
   "metadata": {},
   "source": [
    "### Implement classification methods\n",
    "\n",
    "Find the best classifiers for this dataset. Here is where we test any potential algorithm improvements to the class imbalance."
   ]
  },
  {
   "cell_type": "markdown",
   "metadata": {},
   "source": [
    "#### Gaussian Methods\n",
    "It seems pretty absurd to use LDA here given that each class must share the same covariance matrix. Based on above plots this seems silly, and basically completely determined by the majority class. Let's try quadratic discriminant analysis instead, plus Naive Bayes. Naive Bayes is like QDA with diagonal covariance matrices, so more restricted"
   ]
  },
  {
   "cell_type": "code",
   "execution_count": 8,
   "metadata": {},
   "outputs": [
    {
     "name": "stdout",
     "output_type": "stream",
     "text": [
      "QDA\n",
      "Geometric mean:\t0.897156308105\n",
      "Recall: \t0.826923076923\n",
      "Precision:\t0.053716427233\n",
      "Accuracy:\t0.973087321372\n",
      "Confusion mat: \n",
      "[[55343  1515]\n",
      " [   18    86]]\n",
      "Mean recall score (QuadraticDiscriminantAnalysis): 0.87\n",
      "\n",
      "Naive Bayes\n",
      "Geometric mean:\t0.763314736529\n",
      "Recall: \t0.586538461538\n",
      "Precision:\t0.139269406393\n",
      "Accuracy:\t0.99262666339\n",
      "Confusion mat: \n",
      "[[56481   377]\n",
      " [   43    61]]\n",
      "Mean recall score (GaussianNB): 0.66\n"
     ]
    }
   ],
   "source": [
    "from sklearn.discriminant_analysis import LinearDiscriminantAnalysis, QuadraticDiscriminantAnalysis\n",
    "from sklearn.naive_bayes import GaussianNB\n",
    "\n",
    "print \"QDA\"\n",
    "qda = QuadraticDiscriminantAnalysis().fit(train_x, train_y)\n",
    "print_metrics(test_y, qda.predict(test_x))\n",
    "print_avg_recall(qda,X,y)\n",
    "\n",
    "print ''\n",
    "print \"Naive Bayes\"\n",
    "nb = GaussianNB().fit(train_x, train_y)\n",
    "print_metrics(test_y, nb.predict(test_x))\n",
    "print_avg_recall(nb,X,y)"
   ]
  },
  {
   "cell_type": "markdown",
   "metadata": {},
   "source": [
    "Surprisingly QDA actually did pretty well."
   ]
  },
  {
   "cell_type": "markdown",
   "metadata": {},
   "source": [
    "#### Decision Tree\n",
    "Scikit docs:\n",
    ">Decision trees tend to overfit on data with a large number of features. Getting the right ratio of samples to number of features is important, since a tree with few samples in high dimensional space is very likely to overfit."
   ]
  },
  {
   "cell_type": "code",
   "execution_count": 9,
   "metadata": {},
   "outputs": [
    {
     "name": "stdout",
     "output_type": "stream",
     "text": [
      "Geometric mean:\t0.78431965965\n",
      "Recall: \t0.615384615385\n",
      "Precision:\t0.752941176471\n",
      "Accuracy:\t0.998929110635\n",
      "Confusion mat: \n",
      "[[56837    21]\n",
      " [   40    64]]\n",
      "Mean recall score (DecisionTreeClassifier): 0.73\n"
     ]
    }
   ],
   "source": [
    "from sklearn.tree import DecisionTreeClassifier\n",
    "\n",
    "tree = DecisionTreeClassifier().fit(train_x, train_y)\n",
    "print_metrics(test_y, tree.predict(test_x))\n",
    "print_avg_recall(tree,X,y)"
   ]
  },
  {
   "cell_type": "markdown",
   "metadata": {},
   "source": [
    "#### KNN\n",
    "\n",
    "Scikit didn't allow me to tune the built in classifier in the way I wanted so I made my own, built on scikit's NearestNeighbors algorithms. Essentially instead of each of the N neighbors getting a equal vote for which class the test point should be, I wanted the minorty class to have a more impactful vote. In the most extreme case this means that if _any_ of the neighbors are members of the minority class then we assign the minority class to the test point as well.\n",
    "\n",
    "Note: KNN is known to not perform well on high dimensional data"
   ]
  },
  {
   "cell_type": "code",
   "execution_count": 10,
   "metadata": {
    "scrolled": false
   },
   "outputs": [
    {
     "name": "stdout",
     "output_type": "stream",
     "text": [
      "Boring majority vote condition\n",
      "Geometric mean:\t0.138675049056\n",
      "Recall: \t0.0192307692308\n",
      "Precision:\t1.0\n",
      "Accuracy:\t0.998209332537\n",
      "Confusion mat: \n",
      "[[56858     0]\n",
      " [  102     2]]\n",
      "Unequal voting: class 1 gets 3 votes\n",
      "Geometric mean:\t0.353516079533\n",
      "Recall: \t0.125\n",
      "Precision:\t0.52\n",
      "Accuracy:\t0.998191776974\n",
      "Confusion mat: \n",
      "[[56846    12]\n",
      " [   91    13]]\n",
      "Vigilant condition: is fraud if _any_ neightbors are\n",
      "Geometric mean:\t0.498419006669\n",
      "Recall: \t0.25\n",
      "Precision:\t0.0675324675325\n",
      "Accuracy:\t0.992328218813\n",
      "Confusion mat: \n",
      "[[56499   359]\n",
      " [   78    26]]\n"
     ]
    }
   ],
   "source": [
    "from WeightedKNN import WeightedKNN\n",
    "\n",
    "N = 9\n",
    "\n",
    "weight = 1 # weight 1 means majority vote\n",
    "print \"Boring majority vote condition\"\n",
    "wknn = WeightedKNN(n_neighbors=N, weight=weight, minority_class=1).fit(train_x, train_y)\n",
    "print_metrics(test_y, wknn.predict(test_x))\n",
    "# print_avg_recall(wknn,X,y,'')\n",
    "\n",
    "weight = 3\n",
    "print \"Unequal voting: class 1 gets {} votes\".format(weight)\n",
    "wknn = WeightedKNN(n_neighbors=N, weight=weight, minority_class=1).fit(train_x, train_y)\n",
    "print_metrics(test_y, wknn.predict(test_x))\n",
    "# print_avg_recall(wknn,X,y,'')\n",
    "\n",
    "weight = N # for all weight values > (N+1)/2 you get the one vote counts case\n",
    "print \"Vigilant condition: is fraud if _any_ neightbors are\"\n",
    "wknn = WeightedKNN(n_neighbors=N, weight=weight, minority_class=1).fit(train_x, train_y)\n",
    "print_metrics(test_y, wknn.predict(test_x))\n",
    "# print_avg_recall(wknn,X,y,'')"
   ]
  },
  {
   "cell_type": "markdown",
   "metadata": {},
   "source": [
    "Conclusion: Even in the 'vigilant' case this method doesn't do a great job on recall."
   ]
  },
  {
   "cell_type": "markdown",
   "metadata": {},
   "source": [
    "#### Logistic Regression\n",
    "\n",
    "You can also add a L1 or L2 regularization term. We don't have any reason to think that promoting sparisity on the input would be helpful here but we will test it anyway."
   ]
  },
  {
   "cell_type": "code",
   "execution_count": 11,
   "metadata": {},
   "outputs": [
    {
     "name": "stdout",
     "output_type": "stream",
     "text": [
      "Geometric mean:\t0.931472624032\n",
      "Recall: \t0.884615384615\n",
      "Precision:\t0.0777683854607\n",
      "Accuracy:\t0.980636213616\n",
      "Confusion mat: \n",
      "[[55767  1091]\n",
      " [   12    92]]\n"
     ]
    }
   ],
   "source": [
    "# Vanilla version\n",
    "from sklearn.linear_model import LogisticRegression\n",
    "\n",
    "logit = LogisticRegression(class_weight='balanced') # class_weight is very important\n",
    "logit.fit(train_x, train_y)\n",
    "\n",
    "pred = logit.predict(test_x)\n",
    "print_metrics(test_y, pred)"
   ]
  },
  {
   "cell_type": "markdown",
   "metadata": {},
   "source": [
    "Hey, pretty damn good! But let's use GridSearch to find the best combination of hyperparameters"
   ]
  },
  {
   "cell_type": "code",
   "execution_count": 12,
   "metadata": {},
   "outputs": [
    {
     "data": {
      "text/plain": [
       "GridSearchCV(cv=None, error_score='raise',\n",
       "       estimator=LogisticRegression(C=1.0, class_weight=None, dual=False, fit_intercept=True,\n",
       "          intercept_scaling=1, max_iter=100, multi_class='ovr', n_jobs=1,\n",
       "          penalty='l2', random_state=None, solver='liblinear', tol=0.0001,\n",
       "          verbose=0, warm_start=False),\n",
       "       fit_params=None, iid=True, n_jobs=1,\n",
       "       param_grid=[{'penalty': ['l1', 'l2'], 'C': [0.001, 0.01, 0.1, 1, 10], 'class_weight': ['balanced']}],\n",
       "       pre_dispatch='2*n_jobs', refit=True, return_train_score='warn',\n",
       "       scoring='recall', verbose=0)"
      ]
     },
     "execution_count": 12,
     "metadata": {},
     "output_type": "execute_result"
    }
   ],
   "source": [
    "from sklearn.model_selection import GridSearchCV\n",
    "param_grid = [\n",
    "  {'penalty':['l1','l2'], 'C': [1.0/1000, 1.0/100, 1./10, 1, 10], 'class_weight': ['balanced']}\n",
    " ]\n",
    "gs = GridSearchCV(LogisticRegression(), param_grid, scoring='recall')\n",
    "gs.fit(train_x, train_y)"
   ]
  },
  {
   "cell_type": "code",
   "execution_count": 13,
   "metadata": {},
   "outputs": [
    {
     "name": "stdout",
     "output_type": "stream",
     "text": [
      "Recall Scores\n",
      "0.907 (+/-0.001) for {'penalty': 'l1', 'C': 0.001, 'class_weight': 'balanced'}\n",
      "0.912 (+/-0.007) for {'penalty': 'l2', 'C': 0.001, 'class_weight': 'balanced'}\n",
      "0.910 (+/-0.014) for {'penalty': 'l1', 'C': 0.01, 'class_weight': 'balanced'}\n",
      "0.910 (+/-0.014) for {'penalty': 'l2', 'C': 0.01, 'class_weight': 'balanced'}\n",
      "0.910 (+/-0.007) for {'penalty': 'l1', 'C': 0.1, 'class_weight': 'balanced'}\n",
      "0.910 (+/-0.007) for {'penalty': 'l2', 'C': 0.1, 'class_weight': 'balanced'}\n",
      "0.910 (+/-0.007) for {'penalty': 'l1', 'C': 1, 'class_weight': 'balanced'}\n",
      "0.910 (+/-0.007) for {'penalty': 'l2', 'C': 1, 'class_weight': 'balanced'}\n",
      "0.910 (+/-0.007) for {'penalty': 'l1', 'C': 10, 'class_weight': 'balanced'}\n",
      "0.910 (+/-0.007) for {'penalty': 'l2', 'C': 10, 'class_weight': 'balanced'}\n",
      "\n",
      "Best parameters\n",
      "{'penalty': 'l2', 'C': 0.001, 'class_weight': 'balanced'}\n",
      "\n",
      "Geometric mean:\t0.94604550114\n",
      "Recall: \t0.913461538462\n",
      "Precision:\t0.0763665594855\n",
      "Accuracy:\t0.979670657631\n",
      "Confusion mat: \n",
      "[[55709  1149]\n",
      " [    9    95]]\n",
      "Mean recall score (GridSearchCV): 0.88\n"
     ]
    }
   ],
   "source": [
    "print 'Recall Scores'\n",
    "means = gs.cv_results_['mean_test_score']\n",
    "stds = gs.cv_results_['std_test_score']\n",
    "for mean, std, params in zip(means, stds, gs.cv_results_['params']):\n",
    "    print(\"%0.3f (+/-%0.03f) for %r\"\n",
    "          % (mean, std * 2, params))\n",
    "    \n",
    "print ''\n",
    "print \"Best parameters\"\n",
    "print gs.best_params_\n",
    "print ''\n",
    "\n",
    "print_metrics(test_y, gs.predict(test_x))"
   ]
  },
  {
   "cell_type": "markdown",
   "metadata": {},
   "source": [
    "Not much different than the non-regularized version... so still good"
   ]
  },
  {
   "cell_type": "markdown",
   "metadata": {},
   "source": [
    "#### The best 3 methods appear to be Logistic Regression and QDA, with Decision Trees being a little behind. KNN was poor."
   ]
  },
  {
   "cell_type": "markdown",
   "metadata": {},
   "source": [
    "### ROC and PR curves"
   ]
  },
  {
   "cell_type": "code",
   "execution_count": 14,
   "metadata": {},
   "outputs": [
    {
     "data": {
      "image/png": "[encoded data removed]",
      "text/plain": [
       "<matplotlib.figure.Figure at 0x10d8526d0>"
      ]
     },
     "metadata": {},
     "output_type": "display_data"
    }
   ],
   "source": [
    "plt.figure()\n",
    "ax = plt.subplot(111)\n",
    "\n",
    "plot_pr(qda, test_x, test_y, ax=ax)\n",
    "# plot_pr(tree, test_x, test_y, ax=ax)\n",
    "plot_pr(logit, test_x, test_y, ax=ax)\n",
    "plt.show()"
   ]
  },
  {
   "cell_type": "markdown",
   "metadata": {},
   "source": [
    "This isn't very useful because we don't really care much about the precision of class 1 classification. A low precision is acceptable. We really want our true negative rate (tn/fp+tn) or our accurancy (which is close to TN rate) to stay high. Potentially useful to compare methods however"
   ]
  },
  {
   "cell_type": "code",
   "execution_count": 15,
   "metadata": {},
   "outputs": [
    {
     "data": {
      "image/png": "[encoded data removed]",
      "text/plain": [
       "<matplotlib.figure.Figure at 0x1140fc610>"
      ]
     },
     "metadata": {},
     "output_type": "display_data"
    }
   ],
   "source": [
    "plt.figure()\n",
    "ax = plt.subplot(111)\n",
    "\n",
    "plot_roc(qda, test_x, test_y, ax=ax)\n",
    "plot_roc(logit, test_x, test_y, ax=ax)\n",
    "plt.show()"
   ]
  },
  {
   "cell_type": "markdown",
   "metadata": {},
   "source": [
    "ROC/AUROC may also not be very helpful in this situation, since it tends to assume you want to reduce false classifications equally. Of course we still want to maximize the true positive rate (TPR) and minimize the false positive rate (FPR), so it might help you decide between methods."
   ]
  },
  {
   "cell_type": "code",
   "execution_count": null,
   "metadata": {
    "collapsed": true
   },
   "outputs": [],
   "source": []
  }
 ],
 "metadata": {
  "kernelspec": {
   "display_name": "Python 2",
   "language": "python",
   "name": "python2"
  },
  "language_info": {
   "codemirror_mode": {
    "name": "ipython",
    "version": 2
   },
   "file_extension": ".py",
   "mimetype": "text/x-python",
   "name": "python",
   "nbconvert_exporter": "python",
   "pygments_lexer": "ipython2",
   "version": "2.7.14"
  }
 },
 "nbformat": 4,
 "nbformat_minor": 2
}
