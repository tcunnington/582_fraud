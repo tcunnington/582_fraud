{
 "cells": [
  {
   "cell_type": "code",
   "execution_count": 1,
   "metadata": {
    "collapsed": true
   },
   "outputs": [],
   "source": [
    "%load_ext autoreload\n",
    "%autoreload 2\n",
    "\n",
    "import pandas as pd\n",
    "import numpy as np\n",
    "import matplotlib.pyplot as plt\n",
    "import sklearn\n",
    "from sklearn import linear_model, decomposition, datasets\n",
    "from sklearn.model_selection import train_test_split\n",
    "\n",
    "from utils import *"
   ]
  },
  {
   "cell_type": "markdown",
   "metadata": {},
   "source": [
    "### Load and explore data"
   ]
  },
  {
   "cell_type": "code",
   "execution_count": 2,
   "metadata": {},
   "outputs": [
    {
     "data": {
      "text/html": [
       "<div>\n",
       "<style>\n",
       "    .dataframe thead tr:only-child th {\n",
       "        text-align: right;\n",
       "    }\n",
       "\n",
       "    .dataframe thead th {\n",
       "        text-align: left;\n",
       "    }\n",
       "\n",
       "    .dataframe tbody tr th {\n",
       "        vertical-align: top;\n",
       "    }\n",
       "</style>\n",
       "<table border=\"1\" class=\"dataframe\">\n",
       "  <thead>\n",
       "    <tr style=\"text-align: right;\">\n",
       "      <th></th>\n",
       "      <th>Time</th>\n",
       "      <th>V1</th>\n",
       "      <th>V2</th>\n",
       "      <th>V3</th>\n",
       "      <th>V4</th>\n",
       "      <th>V5</th>\n",
       "      <th>V6</th>\n",
       "      <th>V7</th>\n",
       "      <th>V8</th>\n",
       "      <th>V9</th>\n",
       "      <th>...</th>\n",
       "      <th>V21</th>\n",
       "      <th>V22</th>\n",
       "      <th>V23</th>\n",
       "      <th>V24</th>\n",
       "      <th>V25</th>\n",
       "      <th>V26</th>\n",
       "      <th>V27</th>\n",
       "      <th>V28</th>\n",
       "      <th>Amount</th>\n",
       "      <th>Class</th>\n",
       "    </tr>\n",
       "  </thead>\n",
       "  <tbody>\n",
       "    <tr>\n",
       "      <th>0</th>\n",
       "      <td>0.0</td>\n",
       "      <td>-1.359807</td>\n",
       "      <td>-0.072781</td>\n",
       "      <td>2.536347</td>\n",
       "      <td>1.378155</td>\n",
       "      <td>-0.338321</td>\n",
       "      <td>0.462388</td>\n",
       "      <td>0.239599</td>\n",
       "      <td>0.098698</td>\n",
       "      <td>0.363787</td>\n",
       "      <td>...</td>\n",
       "      <td>-0.018307</td>\n",
       "      <td>0.277838</td>\n",
       "      <td>-0.110474</td>\n",
       "      <td>0.066928</td>\n",
       "      <td>0.128539</td>\n",
       "      <td>-0.189115</td>\n",
       "      <td>0.133558</td>\n",
       "      <td>-0.021053</td>\n",
       "      <td>149.62</td>\n",
       "      <td>0</td>\n",
       "    </tr>\n",
       "    <tr>\n",
       "      <th>1</th>\n",
       "      <td>0.0</td>\n",
       "      <td>1.191857</td>\n",
       "      <td>0.266151</td>\n",
       "      <td>0.166480</td>\n",
       "      <td>0.448154</td>\n",
       "      <td>0.060018</td>\n",
       "      <td>-0.082361</td>\n",
       "      <td>-0.078803</td>\n",
       "      <td>0.085102</td>\n",
       "      <td>-0.255425</td>\n",
       "      <td>...</td>\n",
       "      <td>-0.225775</td>\n",
       "      <td>-0.638672</td>\n",
       "      <td>0.101288</td>\n",
       "      <td>-0.339846</td>\n",
       "      <td>0.167170</td>\n",
       "      <td>0.125895</td>\n",
       "      <td>-0.008983</td>\n",
       "      <td>0.014724</td>\n",
       "      <td>2.69</td>\n",
       "      <td>0</td>\n",
       "    </tr>\n",
       "    <tr>\n",
       "      <th>2</th>\n",
       "      <td>1.0</td>\n",
       "      <td>-1.358354</td>\n",
       "      <td>-1.340163</td>\n",
       "      <td>1.773209</td>\n",
       "      <td>0.379780</td>\n",
       "      <td>-0.503198</td>\n",
       "      <td>1.800499</td>\n",
       "      <td>0.791461</td>\n",
       "      <td>0.247676</td>\n",
       "      <td>-1.514654</td>\n",
       "      <td>...</td>\n",
       "      <td>0.247998</td>\n",
       "      <td>0.771679</td>\n",
       "      <td>0.909412</td>\n",
       "      <td>-0.689281</td>\n",
       "      <td>-0.327642</td>\n",
       "      <td>-0.139097</td>\n",
       "      <td>-0.055353</td>\n",
       "      <td>-0.059752</td>\n",
       "      <td>378.66</td>\n",
       "      <td>0</td>\n",
       "    </tr>\n",
       "    <tr>\n",
       "      <th>3</th>\n",
       "      <td>1.0</td>\n",
       "      <td>-0.966272</td>\n",
       "      <td>-0.185226</td>\n",
       "      <td>1.792993</td>\n",
       "      <td>-0.863291</td>\n",
       "      <td>-0.010309</td>\n",
       "      <td>1.247203</td>\n",
       "      <td>0.237609</td>\n",
       "      <td>0.377436</td>\n",
       "      <td>-1.387024</td>\n",
       "      <td>...</td>\n",
       "      <td>-0.108300</td>\n",
       "      <td>0.005274</td>\n",
       "      <td>-0.190321</td>\n",
       "      <td>-1.175575</td>\n",
       "      <td>0.647376</td>\n",
       "      <td>-0.221929</td>\n",
       "      <td>0.062723</td>\n",
       "      <td>0.061458</td>\n",
       "      <td>123.50</td>\n",
       "      <td>0</td>\n",
       "    </tr>\n",
       "    <tr>\n",
       "      <th>4</th>\n",
       "      <td>2.0</td>\n",
       "      <td>-1.158233</td>\n",
       "      <td>0.877737</td>\n",
       "      <td>1.548718</td>\n",
       "      <td>0.403034</td>\n",
       "      <td>-0.407193</td>\n",
       "      <td>0.095921</td>\n",
       "      <td>0.592941</td>\n",
       "      <td>-0.270533</td>\n",
       "      <td>0.817739</td>\n",
       "      <td>...</td>\n",
       "      <td>-0.009431</td>\n",
       "      <td>0.798278</td>\n",
       "      <td>-0.137458</td>\n",
       "      <td>0.141267</td>\n",
       "      <td>-0.206010</td>\n",
       "      <td>0.502292</td>\n",
       "      <td>0.219422</td>\n",
       "      <td>0.215153</td>\n",
       "      <td>69.99</td>\n",
       "      <td>0</td>\n",
       "    </tr>\n",
       "  </tbody>\n",
       "</table>\n",
       "<p>5 rows × 31 columns</p>\n",
       "</div>"
      ],
      "text/plain": [
       "   Time        V1        V2        V3        V4        V5        V6        V7  \\\n",
       "0   0.0 -1.359807 -0.072781  2.536347  1.378155 -0.338321  0.462388  0.239599   \n",
       "1   0.0  1.191857  0.266151  0.166480  0.448154  0.060018 -0.082361 -0.078803   \n",
       "2   1.0 -1.358354 -1.340163  1.773209  0.379780 -0.503198  1.800499  0.791461   \n",
       "3   1.0 -0.966272 -0.185226  1.792993 -0.863291 -0.010309  1.247203  0.237609   \n",
       "4   2.0 -1.158233  0.877737  1.548718  0.403034 -0.407193  0.095921  0.592941   \n",
       "\n",
       "         V8        V9  ...         V21       V22       V23       V24  \\\n",
       "0  0.098698  0.363787  ...   -0.018307  0.277838 -0.110474  0.066928   \n",
       "1  0.085102 -0.255425  ...   -0.225775 -0.638672  0.101288 -0.339846   \n",
       "2  0.247676 -1.514654  ...    0.247998  0.771679  0.909412 -0.689281   \n",
       "3  0.377436 -1.387024  ...   -0.108300  0.005274 -0.190321 -1.175575   \n",
       "4 -0.270533  0.817739  ...   -0.009431  0.798278 -0.137458  0.141267   \n",
       "\n",
       "        V25       V26       V27       V28  Amount  Class  \n",
       "0  0.128539 -0.189115  0.133558 -0.021053  149.62      0  \n",
       "1  0.167170  0.125895 -0.008983  0.014724    2.69      0  \n",
       "2 -0.327642 -0.139097 -0.055353 -0.059752  378.66      0  \n",
       "3  0.647376 -0.221929  0.062723  0.061458  123.50      0  \n",
       "4 -0.206010  0.502292  0.219422  0.215153   69.99      0  \n",
       "\n",
       "[5 rows x 31 columns]"
      ]
     },
     "execution_count": 2,
     "metadata": {},
     "output_type": "execute_result"
    }
   ],
   "source": [
    "data = pd.read_csv('data/creditcard.csv')\n",
    "data.head()"
   ]
  },
  {
   "cell_type": "code",
   "execution_count": 3,
   "metadata": {
    "collapsed": true
   },
   "outputs": [],
   "source": [
    "fradulent = data[data['Class'] == 1]\n",
    "legit = data[data['Class'] == 0]"
   ]
  },
  {
   "cell_type": "code",
   "execution_count": 4,
   "metadata": {},
   "outputs": [
    {
     "data": {
      "image/png": "[encoded data removed]",
      "text/plain": [
       "<matplotlib.figure.Figure at 0x1a1134ed50>"
      ]
     },
     "metadata": {},
     "output_type": "display_data"
    }
   ],
   "source": [
    "col_names = list(data.columns)[1:-1] ## TODO what is this?\n",
    "tile_random_features(col_names, data)"
   ]
  },
  {
   "cell_type": "markdown",
   "metadata": {},
   "source": [
    "### Prep data"
   ]
  },
  {
   "cell_type": "code",
   "execution_count": 5,
   "metadata": {},
   "outputs": [
    {
     "name": "stdout",
     "output_type": "stream",
     "text": [
      "% of fraud cases in original, train, and test sets:\n",
      "0.00172748563062\n",
      "0.00173802365643\n",
      "0.00168533408237\n"
     ]
    }
   ],
   "source": [
    "train, test = train_test_split(data, test_size=0.2)\n",
    "\n",
    "print '% of fraud cases in original, train, and test sets:'\n",
    "print len(fradulent)*1.0/len(data)\n",
    "print len(train[train['Class']==1])*1.0/len(train)\n",
    "print len(test[test['Class']==1])*1.0/len(test)"
   ]
  },
  {
   "cell_type": "code",
   "execution_count": 6,
   "metadata": {
    "collapsed": true
   },
   "outputs": [],
   "source": [
    "# Split into features / class labels\n",
    "train_x, train_y = [df.as_matrix() for df in split_class(train)]\n",
    "test_x, test_y = [df.as_matrix() for df in split_class(test)]"
   ]
  },
  {
   "cell_type": "markdown",
   "metadata": {},
   "source": [
    "## Performance Metrics"
   ]
  },
  {
   "cell_type": "markdown",
   "metadata": {},
   "source": [
    "Note that a dumb majority class classifier has incredible accuracy!"
   ]
  },
  {
   "cell_type": "code",
   "execution_count": 7,
   "metadata": {},
   "outputs": [
    {
     "data": {
      "text/plain": [
       "0.9983146659176293"
      ]
     },
     "execution_count": 7,
     "metadata": {},
     "output_type": "execute_result"
    }
   ],
   "source": [
    "from sklearn.metrics import accuracy_score\n",
    "bs_pred = np.zeros(test_y.shape)\n",
    "accuracy_score(test_y, bs_pred)"
   ]
  },
  {
   "cell_type": "markdown",
   "metadata": {},
   "source": [
    "That's hard to beat!\n",
    "\n",
    "However what we really care about is not primarily accurancy. We want high recall so that we can find as much fraud ass possible while not creating _too_ many false positives"
   ]
  },
  {
   "cell_type": "code",
   "execution_count": 8,
   "metadata": {},
   "outputs": [
    {
     "name": "stdout",
     "output_type": "stream",
     "text": [
      "Recall:\n"
     ]
    },
    {
     "data": {
      "text/plain": [
       "0.0"
      ]
     },
     "execution_count": 8,
     "metadata": {},
     "output_type": "execute_result"
    }
   ],
   "source": [
    "from sklearn.metrics import recall_score\n",
    "print \"Recall:\"\n",
    "recall_score(test_y, bs_pred)"
   ]
  },
  {
   "cell_type": "markdown",
   "metadata": {},
   "source": [
    "Recall is quite bad, making this a very poor classifier for finding fraud"
   ]
  },
  {
   "cell_type": "markdown",
   "metadata": {},
   "source": [
    "Thus we will try to find a sampling methods that has good recall and better-than-horrible precision (or alternatively, high accurancy)."
   ]
  },
  {
   "cell_type": "markdown",
   "metadata": {},
   "source": [
    "## Implement sampling methods on training data"
   ]
  },
  {
   "cell_type": "markdown",
   "metadata": {},
   "source": [
    "According to we background we did to test different classifiers we are going to test our sampling methods on 3 classifiers: Logistic Regression, QDA, and Decision Trees (CART)"
   ]
  },
  {
   "cell_type": "code",
   "execution_count": 9,
   "metadata": {
    "collapsed": true
   },
   "outputs": [],
   "source": [
    "from sklearn.discriminant_analysis import QuadraticDiscriminantAnalysis\n",
    "from sklearn.naive_bayes import GaussianNB\n",
    "from sklearn.tree import DecisionTreeClassifier\n",
    "from sklearn.linear_model import LogisticRegression"
   ]
  },
  {
   "cell_type": "code",
   "execution_count": 10,
   "metadata": {
    "collapsed": true
   },
   "outputs": [],
   "source": [
    "# best results from hyper parameter search\n",
    "logit_params = {'penalty': 'l2', 'C': 0.001}"
   ]
  },
  {
   "cell_type": "markdown",
   "metadata": {},
   "source": [
    "### Over sampling"
   ]
  },
  {
   "cell_type": "code",
   "execution_count": 11,
   "metadata": {},
   "outputs": [
    {
     "name": "stdout",
     "output_type": "stream",
     "text": [
      "Class counts:\n",
      "[(0, 227449), (1, 227449)]\n"
     ]
    }
   ],
   "source": [
    "from imblearn.over_sampling import RandomOverSampler\n",
    "train_x_res, train_y_res = RandomOverSampler().fit_sample(train_x, train_y)\n",
    "print_class_counts(train_y_res)"
   ]
  },
  {
   "cell_type": "code",
   "execution_count": 12,
   "metadata": {},
   "outputs": [
    {
     "name": "stdout",
     "output_type": "stream",
     "text": [
      "Sampler: RandomOverSampler\n",
      "Class counts:\n",
      "[(0, 227449), (1, 227449)]\n",
      "\n",
      "LogisticRegression\n",
      "Geometric mean:\t0.939060779471\n",
      "Recall: \t0.90625\n",
      "Precision:\t0.053736874614\n",
      "Accuracy:\t0.972946876865\n",
      "Confusion mat: \n",
      "[[55334  1532]\n",
      " [    9    87]]\n",
      "\n",
      "LogisticRegression\n",
      "Geometric mean:\t0.939060779471\n",
      "Recall: \t0.90625\n",
      "Precision:\t0.053736874614\n",
      "Accuracy:\t0.972946876865\n",
      "Confusion mat: \n",
      "[[55334  1532]\n",
      " [    9    87]]\n",
      "\n",
      "Sampler: RandomOverSampler\n",
      "Class counts:\n",
      "[(0, 227449), (1, 227449)]\n",
      "\n",
      "QuadraticDiscriminantAnalysis\n",
      "Geometric mean:\t0.940137805955\n",
      "Recall: \t0.90625\n",
      "Precision:\t0.0583109919571\n",
      "Accuracy:\t0.975176433412\n",
      "Confusion mat: \n",
      "[[55461  1405]\n",
      " [    9    87]]\n",
      "\n",
      "QuadraticDiscriminantAnalysis\n",
      "Geometric mean:\t0.940679800073\n",
      "Recall: \t0.916666666667\n",
      "Precision:\t0.0427184466019\n",
      "Accuracy:\t0.965239984551\n",
      "Confusion mat: \n",
      "[[54894  1972]\n",
      " [    8    88]]\n",
      "\n",
      "Sampler: RandomOverSampler\n",
      "Class counts:\n",
      "[(0, 227449), (1, 227449)]\n",
      "\n",
      "DecisionTreeClassifier\n",
      "Geometric mean:\t0.907011938754\n",
      "Recall: \t0.822916666667\n",
      "Precision:\t0.822916666667\n",
      "Accuracy:\t0.999403110846\n",
      "Confusion mat: \n",
      "[[56849    17]\n",
      " [   17    79]]\n",
      "\n",
      "DecisionTreeClassifier\n",
      "Geometric mean:\t0.883720257099\n",
      "Recall: \t0.78125\n",
      "Precision:\t0.78125\n",
      "Accuracy:\t0.999262666339\n",
      "Confusion mat: \n",
      "[[56845    21]\n",
      " [   21    75]]\n",
      "\n"
     ]
    }
   ],
   "source": [
    "run_compare_sampling(RandomOverSampler, LogisticRegression, train_x_res, train_y_res, test_x, test_y, **logit_params)\n",
    "run_compare_sampling(RandomOverSampler, QuadraticDiscriminantAnalysis, train_x, train_y, test_x, test_y)\n",
    "run_compare_sampling(RandomOverSampler, DecisionTreeClassifier, train_x, train_y, test_x, test_y)"
   ]
  },
  {
   "cell_type": "markdown",
   "metadata": {},
   "source": [
    "### Under sampling"
   ]
  },
  {
   "cell_type": "code",
   "execution_count": 13,
   "metadata": {},
   "outputs": [
    {
     "name": "stdout",
     "output_type": "stream",
     "text": [
      "Class counts:\n",
      "[(0, 396), (1, 396)]\n"
     ]
    }
   ],
   "source": [
    "from imblearn.under_sampling import RandomUnderSampler\n",
    "train_x_res, train_y_res = RandomUnderSampler().fit_sample(train_x, train_y)\n",
    "print_class_counts(train_y_res)"
   ]
  },
  {
   "cell_type": "code",
   "execution_count": 14,
   "metadata": {},
   "outputs": [
    {
     "name": "stdout",
     "output_type": "stream",
     "text": [
      "Sampler: RandomUnderSampler\n",
      "Class counts:\n",
      "[(0, 396), (1, 396)]\n",
      "\n",
      "LogisticRegression\n",
      "Geometric mean:\t0.937201712434\n",
      "Recall: \t0.895833333333\n",
      "Precision:\t0.0719063545151\n",
      "Accuracy:\t0.980337769039\n",
      "Confusion mat: \n",
      "[[55756  1110]\n",
      " [   10    86]]\n",
      "\n",
      "LogisticRegression\n",
      "Geometric mean:\t0.937201712434\n",
      "Recall: \t0.895833333333\n",
      "Precision:\t0.0719063545151\n",
      "Accuracy:\t0.980337769039\n",
      "Confusion mat: \n",
      "[[55756  1110]\n",
      " [   10    86]]\n",
      "\n",
      "Sampler: RandomUnderSampler\n",
      "Class counts:\n",
      "[(0, 396), (1, 396)]\n",
      "\n",
      "QuadraticDiscriminantAnalysis\n",
      "Geometric mean:\t0.940137805955\n",
      "Recall: \t0.90625\n",
      "Precision:\t0.0583109919571\n",
      "Accuracy:\t0.975176433412\n",
      "Confusion mat: \n",
      "[[55461  1405]\n",
      " [    9    87]]\n",
      "\n",
      "QuadraticDiscriminantAnalysis\n",
      "Geometric mean:\t0.931228387312\n",
      "Recall: \t0.927083333333\n",
      "Precision:\t0.0236513420144\n",
      "Accuracy:\t0.935377971279\n",
      "Confusion mat: \n",
      "[[53192  3674]\n",
      " [    7    89]]\n",
      "\n",
      "Sampler: RandomUnderSampler\n",
      "Class counts:\n",
      "[(0, 396), (1, 396)]\n",
      "\n",
      "DecisionTreeClassifier\n",
      "Geometric mean:\t0.895425671184\n",
      "Recall: \t0.802083333333\n",
      "Precision:\t0.785714285714\n",
      "Accuracy:\t0.999297777466\n",
      "Confusion mat: \n",
      "[[56845    21]\n",
      " [   19    77]]\n",
      "\n",
      "DecisionTreeClassifier\n",
      "Geometric mean:\t0.903627659745\n",
      "Recall: \t0.90625\n",
      "Precision:\t0.0152204338698\n",
      "Accuracy:\t0.901021733787\n",
      "Confusion mat: \n",
      "[[51237  5629]\n",
      " [    9    87]]\n",
      "\n"
     ]
    }
   ],
   "source": [
    "run_compare_sampling(RandomUnderSampler, LogisticRegression, train_x_res, train_y_res, test_x, test_y,**logit_params)\n",
    "run_compare_sampling(RandomUnderSampler, QuadraticDiscriminantAnalysis, train_x, train_y, test_x, test_y)\n",
    "run_compare_sampling(RandomUnderSampler, DecisionTreeClassifier, train_x, train_y, test_x, test_y)"
   ]
  },
  {
   "cell_type": "markdown",
   "metadata": {},
   "source": [
    "### SMOTE/ADASYN oversampling"
   ]
  },
  {
   "cell_type": "code",
   "execution_count": 15,
   "metadata": {},
   "outputs": [
    {
     "name": "stdout",
     "output_type": "stream",
     "text": [
      "Class counts:\n",
      "[(0, 227449), (1, 227449)]\n"
     ]
    }
   ],
   "source": [
    "from imblearn.over_sampling import SMOTE, ADASYN\n",
    "train_x_res, train_y_res = SMOTE(kind='regular').fit_sample(train_x, train_y)\n",
    "print_class_counts(train_y_res)"
   ]
  },
  {
   "cell_type": "code",
   "execution_count": 16,
   "metadata": {},
   "outputs": [
    {
     "data": {
      "image/png": "[encoded data removed]",
      "text/plain": [
       "<matplotlib.figure.Figure at 0x1a125e1b50>"
      ]
     },
     "metadata": {},
     "output_type": "display_data"
    }
   ],
   "source": [
    "minorty = train_x_res[train_y_res == 1]\n",
    "col_names = fradulent.columns\n",
    "cols = (1,3)\n",
    "\n",
    "fig, axarr = plt.subplots(1,2,sharey=True,figsize=(10,5))\n",
    "ax_orig = axarr[0]\n",
    "ax_smote = axarr[1]\n",
    "\n",
    "ax_orig.scatter(fradulent[col_names[cols[0]]],fradulent[col_names[cols[1]]])\n",
    "ax_orig.set_title('Original fraud data')\n",
    "ax_orig.set_ylabel(col_names[cols[0]])\n",
    "ax_orig.set_xlabel(col_names[cols[1]])\n",
    "\n",
    "ax_smote.scatter(minorty[:,cols[0]], minorty[:,cols[1]])\n",
    "ax_smote.set_title('SMOTE')\n",
    "ax_smote.set_xlabel(col_names[cols[1]])\n",
    "\n",
    "plt.show()"
   ]
  },
  {
   "cell_type": "code",
   "execution_count": 17,
   "metadata": {},
   "outputs": [
    {
     "name": "stdout",
     "output_type": "stream",
     "text": [
      "Sampler: SMOTE\n",
      "Class counts:\n",
      "[(0, 227449), (1, 227449)]\n",
      "\n",
      "LogisticRegression\n",
      "Geometric mean:\t0.944205800079\n",
      "Recall: \t0.90625\n",
      "Precision:\t0.0860534124629\n",
      "Accuracy:\t0.983620659387\n",
      "Confusion mat: \n",
      "[[55942   924]\n",
      " [    9    87]]\n",
      "\n",
      "LogisticRegression\n",
      "Geometric mean:\t0.944205800079\n",
      "Recall: \t0.90625\n",
      "Precision:\t0.0860534124629\n",
      "Accuracy:\t0.983620659387\n",
      "Confusion mat: \n",
      "[[55942   924]\n",
      " [    9    87]]\n",
      "\n",
      "Sampler: SMOTE\n",
      "Class counts:\n",
      "[(0, 227449), (1, 227449)]\n",
      "\n",
      "QuadraticDiscriminantAnalysis\n",
      "Geometric mean:\t0.940137805955\n",
      "Recall: \t0.90625\n",
      "Precision:\t0.0583109919571\n",
      "Accuracy:\t0.975176433412\n",
      "Confusion mat: \n",
      "[[55461  1405]\n",
      " [    9    87]]\n",
      "\n",
      "QuadraticDiscriminantAnalysis\n",
      "Geometric mean:\t0.939578245488\n",
      "Recall: \t0.90625\n",
      "Precision:\t0.0558408215661\n",
      "Accuracy:\t0.97401776623\n",
      "Confusion mat: \n",
      "[[55395  1471]\n",
      " [    9    87]]\n",
      "\n",
      "Sampler: SMOTE\n",
      "Class counts:\n",
      "[(0, 227449), (1, 227449)]\n",
      "\n",
      "DecisionTreeClassifier\n",
      "Geometric mean:\t0.895433547178\n",
      "Recall: \t0.802083333333\n",
      "Precision:\t0.79381443299\n",
      "Accuracy:\t0.999315333029\n",
      "Confusion mat: \n",
      "[[56846    20]\n",
      " [   19    77]]\n",
      "\n",
      "DecisionTreeClassifier\n",
      "Geometric mean:\t0.906381506786\n",
      "Recall: \t0.822916666667\n",
      "Precision:\t0.451428571429\n",
      "Accuracy:\t0.998016221341\n",
      "Confusion mat: \n",
      "[[56770    96]\n",
      " [   17    79]]\n",
      "\n"
     ]
    }
   ],
   "source": [
    "run_compare_sampling(SMOTE, LogisticRegression, train_x_res, train_y_res, test_x, test_y,**logit_params)\n",
    "run_compare_sampling(SMOTE, QuadraticDiscriminantAnalysis, train_x, train_y, test_x, test_y)\n",
    "run_compare_sampling(SMOTE, DecisionTreeClassifier, train_x, train_y, test_x, test_y)"
   ]
  },
  {
   "cell_type": "code",
   "execution_count": 18,
   "metadata": {},
   "outputs": [
    {
     "name": "stdout",
     "output_type": "stream",
     "text": [
      "Sampler: ADASYN\n",
      "Class counts:\n",
      "[(0, 227449), (1, 227449)]\n",
      "\n",
      "LogisticRegression\n",
      "Geometric mean:\t0.944205800079\n",
      "Recall: \t0.90625\n",
      "Precision:\t0.0860534124629\n",
      "Accuracy:\t0.983620659387\n",
      "Confusion mat: \n",
      "[[55942   924]\n",
      " [    9    87]]\n",
      "\n",
      "LogisticRegression\n",
      "Geometric mean:\t0.944205800079\n",
      "Recall: \t0.90625\n",
      "Precision:\t0.0860534124629\n",
      "Accuracy:\t0.983620659387\n",
      "Confusion mat: \n",
      "[[55942   924]\n",
      " [    9    87]]\n",
      "\n",
      "Sampler: ADASYN\n",
      "Class counts:\n",
      "[(0, 227449), (1, 227472)]\n",
      "\n",
      "QuadraticDiscriminantAnalysis\n",
      "Geometric mean:\t0.940137805955\n",
      "Recall: \t0.90625\n",
      "Precision:\t0.0583109919571\n",
      "Accuracy:\t0.975176433412\n",
      "Confusion mat: \n",
      "[[55461  1405]\n",
      " [    9    87]]\n",
      "\n",
      "QuadraticDiscriminantAnalysis\n",
      "Geometric mean:\t0.939144849309\n",
      "Recall: \t0.916666666667\n",
      "Precision:\t0.0393032603841\n",
      "Accuracy:\t0.96209753871\n",
      "Confusion mat: \n",
      "[[54715  2151]\n",
      " [    8    88]]\n",
      "\n",
      "Sampler: ADASYN\n",
      "Class counts:\n",
      "[(0, 227449), (1, 227472)]\n",
      "\n",
      "DecisionTreeClassifier\n",
      "Geometric mean:\t0.895449298958\n",
      "Recall: \t0.802083333333\n",
      "Precision:\t0.810526315789\n",
      "Accuracy:\t0.999350444156\n",
      "Confusion mat: \n",
      "[[56848    18]\n",
      " [   19    77]]\n",
      "\n",
      "DecisionTreeClassifier\n",
      "Geometric mean:\t0.877878922715\n",
      "Recall: \t0.78125\n",
      "Precision:\t0.0887573964497\n",
      "Accuracy:\t0.986113549384\n",
      "Confusion mat: \n",
      "[[56096   770]\n",
      " [   21    75]]\n",
      "\n"
     ]
    }
   ],
   "source": [
    "run_compare_sampling(ADASYN, LogisticRegression, train_x_res, train_y_res, test_x, test_y, **logit_params)\n",
    "run_compare_sampling(ADASYN, QuadraticDiscriminantAnalysis, train_x, train_y, test_x, test_y)\n",
    "run_compare_sampling(ADASYN, DecisionTreeClassifier, train_x, train_y, test_x, test_y)"
   ]
  },
  {
   "cell_type": "code",
   "execution_count": null,
   "metadata": {
    "collapsed": true
   },
   "outputs": [],
   "source": []
  }
 ],
 "metadata": {
  "kernelspec": {
   "display_name": "Python 2",
   "language": "python",
   "name": "python2"
  },
  "language_info": {
   "codemirror_mode": {
    "name": "ipython",
    "version": 2
   },
   "file_extension": ".py",
   "mimetype": "text/x-python",
   "name": "python",
   "nbconvert_exporter": "python",
   "pygments_lexer": "ipython2",
   "version": "2.7.14"
  }
 },
 "nbformat": 4,
 "nbformat_minor": 2
}
