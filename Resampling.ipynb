{
 "cells": [
  {
   "cell_type": "code",
   "execution_count": 1,
   "metadata": {
    "collapsed": true
   },
   "outputs": [],
   "source": [
    "%load_ext autoreload\n",
    "%autoreload 2\n",
    "\n",
    "import pandas as pd\n",
    "import numpy as np\n",
    "import matplotlib.pyplot as plt\n",
    "import sklearn\n",
    "from sklearn import linear_model, decomposition, datasets\n",
    "from sklearn.model_selection import train_test_split\n",
    "\n",
    "from utils import *"
   ]
  },
  {
   "cell_type": "markdown",
   "metadata": {},
   "source": [
    "### Load and explore data"
   ]
  },
  {
   "cell_type": "code",
   "execution_count": 2,
   "metadata": {},
   "outputs": [
    {
     "data": {
      "text/html": [
       "<div>\n",
       "<style>\n",
       "    .dataframe thead tr:only-child th {\n",
       "        text-align: right;\n",
       "    }\n",
       "\n",
       "    .dataframe thead th {\n",
       "        text-align: left;\n",
       "    }\n",
       "\n",
       "    .dataframe tbody tr th {\n",
       "        vertical-align: top;\n",
       "    }\n",
       "</style>\n",
       "<table border=\"1\" class=\"dataframe\">\n",
       "  <thead>\n",
       "    <tr style=\"text-align: right;\">\n",
       "      <th></th>\n",
       "      <th>Time</th>\n",
       "      <th>V1</th>\n",
       "      <th>V2</th>\n",
       "      <th>V3</th>\n",
       "      <th>V4</th>\n",
       "      <th>V5</th>\n",
       "      <th>V6</th>\n",
       "      <th>V7</th>\n",
       "      <th>V8</th>\n",
       "      <th>V9</th>\n",
       "      <th>...</th>\n",
       "      <th>V21</th>\n",
       "      <th>V22</th>\n",
       "      <th>V23</th>\n",
       "      <th>V24</th>\n",
       "      <th>V25</th>\n",
       "      <th>V26</th>\n",
       "      <th>V27</th>\n",
       "      <th>V28</th>\n",
       "      <th>Amount</th>\n",
       "      <th>Class</th>\n",
       "    </tr>\n",
       "  </thead>\n",
       "  <tbody>\n",
       "    <tr>\n",
       "      <th>0</th>\n",
       "      <td>0.0</td>\n",
       "      <td>-1.359807</td>\n",
       "      <td>-0.072781</td>\n",
       "      <td>2.536347</td>\n",
       "      <td>1.378155</td>\n",
       "      <td>-0.338321</td>\n",
       "      <td>0.462388</td>\n",
       "      <td>0.239599</td>\n",
       "      <td>0.098698</td>\n",
       "      <td>0.363787</td>\n",
       "      <td>...</td>\n",
       "      <td>-0.018307</td>\n",
       "      <td>0.277838</td>\n",
       "      <td>-0.110474</td>\n",
       "      <td>0.066928</td>\n",
       "      <td>0.128539</td>\n",
       "      <td>-0.189115</td>\n",
       "      <td>0.133558</td>\n",
       "      <td>-0.021053</td>\n",
       "      <td>149.62</td>\n",
       "      <td>0</td>\n",
       "    </tr>\n",
       "    <tr>\n",
       "      <th>1</th>\n",
       "      <td>0.0</td>\n",
       "      <td>1.191857</td>\n",
       "      <td>0.266151</td>\n",
       "      <td>0.166480</td>\n",
       "      <td>0.448154</td>\n",
       "      <td>0.060018</td>\n",
       "      <td>-0.082361</td>\n",
       "      <td>-0.078803</td>\n",
       "      <td>0.085102</td>\n",
       "      <td>-0.255425</td>\n",
       "      <td>...</td>\n",
       "      <td>-0.225775</td>\n",
       "      <td>-0.638672</td>\n",
       "      <td>0.101288</td>\n",
       "      <td>-0.339846</td>\n",
       "      <td>0.167170</td>\n",
       "      <td>0.125895</td>\n",
       "      <td>-0.008983</td>\n",
       "      <td>0.014724</td>\n",
       "      <td>2.69</td>\n",
       "      <td>0</td>\n",
       "    </tr>\n",
       "    <tr>\n",
       "      <th>2</th>\n",
       "      <td>1.0</td>\n",
       "      <td>-1.358354</td>\n",
       "      <td>-1.340163</td>\n",
       "      <td>1.773209</td>\n",
       "      <td>0.379780</td>\n",
       "      <td>-0.503198</td>\n",
       "      <td>1.800499</td>\n",
       "      <td>0.791461</td>\n",
       "      <td>0.247676</td>\n",
       "      <td>-1.514654</td>\n",
       "      <td>...</td>\n",
       "      <td>0.247998</td>\n",
       "      <td>0.771679</td>\n",
       "      <td>0.909412</td>\n",
       "      <td>-0.689281</td>\n",
       "      <td>-0.327642</td>\n",
       "      <td>-0.139097</td>\n",
       "      <td>-0.055353</td>\n",
       "      <td>-0.059752</td>\n",
       "      <td>378.66</td>\n",
       "      <td>0</td>\n",
       "    </tr>\n",
       "    <tr>\n",
       "      <th>3</th>\n",
       "      <td>1.0</td>\n",
       "      <td>-0.966272</td>\n",
       "      <td>-0.185226</td>\n",
       "      <td>1.792993</td>\n",
       "      <td>-0.863291</td>\n",
       "      <td>-0.010309</td>\n",
       "      <td>1.247203</td>\n",
       "      <td>0.237609</td>\n",
       "      <td>0.377436</td>\n",
       "      <td>-1.387024</td>\n",
       "      <td>...</td>\n",
       "      <td>-0.108300</td>\n",
       "      <td>0.005274</td>\n",
       "      <td>-0.190321</td>\n",
       "      <td>-1.175575</td>\n",
       "      <td>0.647376</td>\n",
       "      <td>-0.221929</td>\n",
       "      <td>0.062723</td>\n",
       "      <td>0.061458</td>\n",
       "      <td>123.50</td>\n",
       "      <td>0</td>\n",
       "    </tr>\n",
       "    <tr>\n",
       "      <th>4</th>\n",
       "      <td>2.0</td>\n",
       "      <td>-1.158233</td>\n",
       "      <td>0.877737</td>\n",
       "      <td>1.548718</td>\n",
       "      <td>0.403034</td>\n",
       "      <td>-0.407193</td>\n",
       "      <td>0.095921</td>\n",
       "      <td>0.592941</td>\n",
       "      <td>-0.270533</td>\n",
       "      <td>0.817739</td>\n",
       "      <td>...</td>\n",
       "      <td>-0.009431</td>\n",
       "      <td>0.798278</td>\n",
       "      <td>-0.137458</td>\n",
       "      <td>0.141267</td>\n",
       "      <td>-0.206010</td>\n",
       "      <td>0.502292</td>\n",
       "      <td>0.219422</td>\n",
       "      <td>0.215153</td>\n",
       "      <td>69.99</td>\n",
       "      <td>0</td>\n",
       "    </tr>\n",
       "  </tbody>\n",
       "</table>\n",
       "<p>5 rows × 31 columns</p>\n",
       "</div>"
      ],
      "text/plain": [
       "   Time        V1        V2        V3        V4        V5        V6        V7  \\\n",
       "0   0.0 -1.359807 -0.072781  2.536347  1.378155 -0.338321  0.462388  0.239599   \n",
       "1   0.0  1.191857  0.266151  0.166480  0.448154  0.060018 -0.082361 -0.078803   \n",
       "2   1.0 -1.358354 -1.340163  1.773209  0.379780 -0.503198  1.800499  0.791461   \n",
       "3   1.0 -0.966272 -0.185226  1.792993 -0.863291 -0.010309  1.247203  0.237609   \n",
       "4   2.0 -1.158233  0.877737  1.548718  0.403034 -0.407193  0.095921  0.592941   \n",
       "\n",
       "         V8        V9  ...         V21       V22       V23       V24  \\\n",
       "0  0.098698  0.363787  ...   -0.018307  0.277838 -0.110474  0.066928   \n",
       "1  0.085102 -0.255425  ...   -0.225775 -0.638672  0.101288 -0.339846   \n",
       "2  0.247676 -1.514654  ...    0.247998  0.771679  0.909412 -0.689281   \n",
       "3  0.377436 -1.387024  ...   -0.108300  0.005274 -0.190321 -1.175575   \n",
       "4 -0.270533  0.817739  ...   -0.009431  0.798278 -0.137458  0.141267   \n",
       "\n",
       "        V25       V26       V27       V28  Amount  Class  \n",
       "0  0.128539 -0.189115  0.133558 -0.021053  149.62      0  \n",
       "1  0.167170  0.125895 -0.008983  0.014724    2.69      0  \n",
       "2 -0.327642 -0.139097 -0.055353 -0.059752  378.66      0  \n",
       "3  0.647376 -0.221929  0.062723  0.061458  123.50      0  \n",
       "4 -0.206010  0.502292  0.219422  0.215153   69.99      0  \n",
       "\n",
       "[5 rows x 31 columns]"
      ]
     },
     "execution_count": 2,
     "metadata": {},
     "output_type": "execute_result"
    }
   ],
   "source": [
    "data = pd.read_csv('creditcard.csv')\n",
    "data.head()"
   ]
  },
  {
   "cell_type": "code",
   "execution_count": 3,
   "metadata": {},
   "outputs": [],
   "source": [
    "fradulent = data[data['Class'] == 1]\n",
    "legit = data[data['Class'] == 0]"
   ]
  },
  {
   "cell_type": "code",
   "execution_count": 6,
   "metadata": {},
   "outputs": [
    {
     "data": {
      "image/png": "[encoded data removed]",
      "text/plain": [
       "<matplotlib.figure.Figure at 0x110af1950>"
      ]
     },
     "metadata": {},
     "output_type": "display_data"
    }
   ],
   "source": [
    "col_names = list(data.columns)[1:-1] ## TODO what is this?\n",
    "tile_random_features(col_names, data)"
   ]
  },
  {
   "cell_type": "markdown",
   "metadata": {},
   "source": [
    "### Prep data"
   ]
  },
  {
   "cell_type": "code",
   "execution_count": 7,
   "metadata": {},
   "outputs": [
    {
     "name": "stdout",
     "output_type": "stream",
     "text": [
      "% of fraud cases in original, train, and test sets:\n",
      "0.00172748563062\n",
      "0.00173363470781\n",
      "0.00170288964573\n"
     ]
    }
   ],
   "source": [
    "train, test = train_test_split(data, test_size=0.2)\n",
    "\n",
    "print '% of fraud cases in original, train, and test sets:'\n",
    "print len(fradulent)*1.0/len(data)\n",
    "print len(train[train['Class']==1])*1.0/len(train)\n",
    "print len(test[test['Class']==1])*1.0/len(test)"
   ]
  },
  {
   "cell_type": "code",
   "execution_count": 8,
   "metadata": {},
   "outputs": [],
   "source": [
    "# Split into features / class labels\n",
    "train_x, train_y = [df.as_matrix() for df in split_by_class(train)]\n",
    "test_x, test_y = [df.as_matrix() for df in split_by_class(test)]"
   ]
  },
  {
   "cell_type": "markdown",
   "metadata": {},
   "source": [
    "## Performance Metrics"
   ]
  },
  {
   "cell_type": "markdown",
   "metadata": {},
   "source": [
    "Note that a dumb majority class classifier has incredible accuracy!"
   ]
  },
  {
   "cell_type": "code",
   "execution_count": 9,
   "metadata": {},
   "outputs": [
    {
     "data": {
      "text/plain": [
       "0.99829711035427127"
      ]
     },
     "execution_count": 9,
     "metadata": {},
     "output_type": "execute_result"
    }
   ],
   "source": [
    "from sklearn.metrics import accuracy_score\n",
    "bs_pred = np.zeros(test_y.shape)\n",
    "accuracy_score(test_y, bs_pred)"
   ]
  },
  {
   "cell_type": "markdown",
   "metadata": {},
   "source": [
    "That's hard to beat!\n",
    "\n",
    "However what we really care about is not primarily accurancy. We want high recall so that we can find as much fraud ass possible while not creating _too_ many false positives"
   ]
  },
  {
   "cell_type": "code",
   "execution_count": 10,
   "metadata": {},
   "outputs": [
    {
     "name": "stdout",
     "output_type": "stream",
     "text": [
      "Recall:\n"
     ]
    },
    {
     "data": {
      "text/plain": [
       "0.0"
      ]
     },
     "execution_count": 10,
     "metadata": {},
     "output_type": "execute_result"
    }
   ],
   "source": [
    "from sklearn.metrics import recall_score\n",
    "print \"Recall:\"\n",
    "recall_score(test_y, bs_pred)"
   ]
  },
  {
   "cell_type": "markdown",
   "metadata": {},
   "source": [
    "Recall is quite bad, making this a very poor classifier for finding fraud"
   ]
  },
  {
   "cell_type": "markdown",
   "metadata": {},
   "source": [
    "Thus we will try to find a sampling methods that has good recall and better-than-horrible precision (or alternatively, high accurancy)."
   ]
  },
  {
   "cell_type": "markdown",
   "metadata": {},
   "source": [
    "## Implement sampling methods on training data"
   ]
  },
  {
   "cell_type": "markdown",
   "metadata": {},
   "source": [
    "According to we background we did to test different classifiers we are going to test our sampling methods on 3 classifiers: Logistic Regression, QDA, and Decision Trees (CART)"
   ]
  },
  {
   "cell_type": "code",
   "execution_count": 29,
   "metadata": {
    "collapsed": true
   },
   "outputs": [],
   "source": [
    "from sklearn.discriminant_analysis import QuadraticDiscriminantAnalysis\n",
    "from sklearn.naive_bayes import GaussianNB\n",
    "from sklearn.tree import DecisionTreeClassifier\n",
    "from sklearn.linear_model import LogisticRegression"
   ]
  },
  {
   "cell_type": "code",
   "execution_count": 28,
   "metadata": {
    "collapsed": true
   },
   "outputs": [],
   "source": [
    "# best results from hyper parameter search\n",
    "logit_params = {'penalty': 'l2', 'C': 0.01}"
   ]
  },
  {
   "cell_type": "markdown",
   "metadata": {},
   "source": [
    "### Over sampling"
   ]
  },
  {
   "cell_type": "code",
   "execution_count": 30,
   "metadata": {},
   "outputs": [
    {
     "name": "stdout",
     "output_type": "stream",
     "text": [
      "Class counts:\n",
      "[(0, 227450), (1, 227450)]\n"
     ]
    }
   ],
   "source": [
    "from imblearn.over_sampling import RandomOverSampler\n",
    "train_x_res, train_y_res = RandomOverSampler().fit_sample(train_x, train_y)\n",
    "print_class_counts(train_y_res)"
   ]
  },
  {
   "cell_type": "code",
   "execution_count": 31,
   "metadata": {},
   "outputs": [
    {
     "name": "stdout",
     "output_type": "stream",
     "text": [
      "Sampler: RandomOverSampler\n",
      "Class counts:\n",
      "[(0, 227450), (1, 227450)]\n",
      "\n",
      "LogisticRegression\n",
      "Recall: \t0.886597938144\n",
      "Precision:\t0.0697485806975\n",
      "F1 Score:\t0.129323308271\n",
      "Accuracy:\t0.979670657631\n",
      "Confusion mat: \n",
      "[[55718  1147]\n",
      " [   11    86]]\n",
      "\n",
      "LogisticRegression\n",
      "Recall: \t0.886597938144\n",
      "Precision:\t0.0697485806975\n",
      "F1 Score:\t0.129323308271\n",
      "Accuracy:\t0.979670657631\n",
      "Confusion mat: \n",
      "[[55718  1147]\n",
      " [   11    86]]\n",
      "\n",
      "Sampler: RandomOverSampler\n",
      "Class counts:\n",
      "[(0, 227450), (1, 227450)]\n",
      "\n",
      "QuadraticDiscriminantAnalysis\n",
      "Recall: \t0.865979381443\n",
      "Precision:\t0.0569491525424\n",
      "F1 Score:\t0.106870229008\n",
      "Accuracy:\t0.975351989045\n",
      "Confusion mat: \n",
      "[[55474  1391]\n",
      " [   13    84]]\n",
      "\n",
      "QuadraticDiscriminantAnalysis\n",
      "Recall: \t0.886597938144\n",
      "Precision:\t0.0430215107554\n",
      "F1 Score:\t0.0820610687023\n",
      "Accuracy:\t0.966223096099\n",
      "Confusion mat: \n",
      "[[54952  1913]\n",
      " [   11    86]]\n",
      "\n",
      "Sampler: RandomOverSampler\n",
      "Class counts:\n",
      "[(0, 227450), (1, 227450)]\n",
      "\n",
      "DecisionTreeClassifier\n",
      "Recall: \t0.752577319588\n",
      "Precision:\t0.73\n",
      "F1 Score:\t0.741116751269\n",
      "Accuracy:\t0.999104666269\n",
      "Confusion mat: \n",
      "[[56838    27]\n",
      " [   24    73]]\n",
      "\n",
      "DecisionTreeClassifier\n",
      "Recall: \t0.721649484536\n",
      "Precision:\t0.795454545455\n",
      "F1 Score:\t0.756756756757\n",
      "Accuracy:\t0.999209999649\n",
      "Confusion mat: \n",
      "[[56847    18]\n",
      " [   27    70]]\n",
      "\n"
     ]
    }
   ],
   "source": [
    "run_compare_sampling(RandomOverSampler, LogisticRegression, train_x_res, train_y_res, test_x, test_y, **logit_params)\n",
    "run_compare_sampling(RandomOverSampler, QuadraticDiscriminantAnalysis, train_x, train_y, test_x, test_y)\n",
    "run_compare_sampling(RandomOverSampler, DecisionTreeClassifier, train_x, train_y, test_x, test_y)"
   ]
  },
  {
   "cell_type": "markdown",
   "metadata": {},
   "source": [
    "### Under sampling"
   ]
  },
  {
   "cell_type": "code",
   "execution_count": 32,
   "metadata": {},
   "outputs": [
    {
     "name": "stdout",
     "output_type": "stream",
     "text": [
      "Class counts:\n",
      "[(0, 395), (1, 395)]\n"
     ]
    }
   ],
   "source": [
    "from imblearn.under_sampling import RandomUnderSampler\n",
    "train_x_res, train_y_res = RandomUnderSampler().fit_sample(train_x, train_y)\n",
    "print_class_counts(train_y_res)"
   ]
  },
  {
   "cell_type": "code",
   "execution_count": 33,
   "metadata": {},
   "outputs": [
    {
     "name": "stdout",
     "output_type": "stream",
     "text": [
      "Sampler: RandomUnderSampler\n",
      "Class counts:\n",
      "[(0, 395), (1, 395)]\n",
      "\n",
      "LogisticRegression\n",
      "Recall: \t0.896907216495\n",
      "Precision:\t0.0744863013699\n",
      "F1 Score:\t0.137549407115\n",
      "Accuracy:\t0.980846880376\n",
      "Confusion mat: \n",
      "[[55784  1081]\n",
      " [   10    87]]\n",
      "\n",
      "LogisticRegression\n",
      "Recall: \t0.896907216495\n",
      "Precision:\t0.074358974359\n",
      "F1 Score:\t0.137332280979\n",
      "Accuracy:\t0.98081176925\n",
      "Confusion mat: \n",
      "[[55782  1083]\n",
      " [   10    87]]\n",
      "\n",
      "Sampler: RandomUnderSampler\n",
      "Class counts:\n",
      "[(0, 395), (1, 395)]\n",
      "\n",
      "QuadraticDiscriminantAnalysis\n",
      "Recall: \t0.865979381443\n",
      "Precision:\t0.0569491525424\n",
      "F1 Score:\t0.106870229008\n",
      "Accuracy:\t0.975351989045\n",
      "Confusion mat: \n",
      "[[55474  1391]\n",
      " [   13    84]]\n",
      "\n",
      "QuadraticDiscriminantAnalysis\n",
      "Recall: \t0.896907216495\n",
      "Precision:\t0.0251445086705\n",
      "F1 Score:\t0.0489176272139\n",
      "Accuracy:\t0.94060952916\n",
      "Confusion mat: \n",
      "[[53492  3373]\n",
      " [   10    87]]\n",
      "\n",
      "Sampler: RandomUnderSampler\n",
      "Class counts:\n",
      "[(0, 395), (1, 395)]\n",
      "\n",
      "DecisionTreeClassifier\n",
      "Recall: \t0.742268041237\n",
      "Precision:\t0.765957446809\n",
      "F1 Score:\t0.753926701571\n",
      "Accuracy:\t0.999174888522\n",
      "Confusion mat: \n",
      "[[56843    22]\n",
      " [   25    72]]\n",
      "\n",
      "DecisionTreeClassifier\n",
      "Recall: \t0.938144329897\n",
      "Precision:\t0.0177146194277\n",
      "F1 Score:\t0.034772640428\n",
      "Accuracy:\t0.911309293915\n",
      "Confusion mat: \n",
      "[[51819  5046]\n",
      " [    6    91]]\n",
      "\n"
     ]
    }
   ],
   "source": [
    "run_compare_sampling(RandomUnderSampler, LogisticRegression, train_x_res, train_y_res, test_x, test_y,**logit_params)\n",
    "run_compare_sampling(RandomUnderSampler, QuadraticDiscriminantAnalysis, train_x, train_y, test_x, test_y)\n",
    "run_compare_sampling(RandomUnderSampler, DecisionTreeClassifier, train_x, train_y, test_x, test_y)"
   ]
  },
  {
   "cell_type": "markdown",
   "metadata": {},
   "source": [
    "### SMOTE/ADASYN oversampling"
   ]
  },
  {
   "cell_type": "code",
   "execution_count": 24,
   "metadata": {},
   "outputs": [
    {
     "name": "stdout",
     "output_type": "stream",
     "text": [
      "Class counts:\n",
      "[(0, 227450), (1, 227450)]\n"
     ]
    }
   ],
   "source": [
    "from imblearn.over_sampling import SMOTE, ADASYN\n",
    "train_x_res, train_y_res = SMOTE(kind='regular').fit_sample(train_x, train_y)\n",
    "print_class_counts(train_y_res)"
   ]
  },
  {
   "cell_type": "code",
   "execution_count": 25,
   "metadata": {},
   "outputs": [
    {
     "data": {
      "image/png": "[encoded data removed]",
      "text/plain": [
       "<matplotlib.figure.Figure at 0x1a3eb64150>"
      ]
     },
     "metadata": {},
     "output_type": "display_data"
    }
   ],
   "source": [
    "minorty = train_x_res[train_y_res == 1]\n",
    "col_names = fradulent.columns\n",
    "cols = (1,3)\n",
    "\n",
    "fig, axarr = plt.subplots(1,2,sharey=True,figsize=(10,5))\n",
    "ax_orig = axarr[0]\n",
    "ax_smote = axarr[1]\n",
    "\n",
    "ax_orig.scatter(fradulent[col_names[cols[0]]],fradulent[col_names[cols[1]]])\n",
    "ax_orig.set_title('Original fraud data')\n",
    "ax_orig.set_ylabel(col_names[cols[0]])\n",
    "ax_orig.set_xlabel(col_names[cols[1]])\n",
    "\n",
    "ax_smote.scatter(minorty[:,cols[0]], minorty[:,cols[1]])\n",
    "ax_smote.set_title('SMOTE')\n",
    "ax_smote.set_xlabel(col_names[cols[1]])\n",
    "\n",
    "plt.show()"
   ]
  },
  {
   "cell_type": "code",
   "execution_count": 26,
   "metadata": {},
   "outputs": [
    {
     "name": "stdout",
     "output_type": "stream",
     "text": [
      "Sampler: SMOTE\n",
      "Class counts:\n",
      "[(0, 227450), (1, 227450)]\n",
      "\n",
      "LogisticRegression\n",
      "Recall: \t0.886597938144\n",
      "Precision:\t0.103365384615\n",
      "F1 Score:\t0.185145317546\n",
      "Accuracy:\t0.986710438538\n",
      "Confusion mat: \n",
      "[[56119   746]\n",
      " [   11    86]]\n",
      "\n",
      "LogisticRegression\n",
      "Recall: \t0.886597938144\n",
      "Precision:\t0.103365384615\n",
      "F1 Score:\t0.185145317546\n",
      "Accuracy:\t0.986710438538\n",
      "Confusion mat: \n",
      "[[56119   746]\n",
      " [   11    86]]\n",
      "\n",
      "Sampler: SMOTE\n",
      "Class counts:\n",
      "[(0, 227450), (1, 227450)]\n",
      "\n",
      "QuadraticDiscriminantAnalysis\n",
      "Recall: \t0.865979381443\n",
      "Precision:\t0.0569491525424\n",
      "F1 Score:\t0.106870229008\n",
      "Accuracy:\t0.975351989045\n",
      "Confusion mat: \n",
      "[[55474  1391]\n",
      " [   13    84]]\n",
      "\n",
      "QuadraticDiscriminantAnalysis\n",
      "Recall: \t0.886597938144\n",
      "Precision:\t0.0562091503268\n",
      "F1 Score:\t0.105716041795\n",
      "Accuracy:\t0.974456655314\n",
      "Confusion mat: \n",
      "[[55421  1444]\n",
      " [   11    86]]\n",
      "\n",
      "Sampler: SMOTE\n",
      "Class counts:\n",
      "[(0, 227450), (1, 227450)]\n",
      "\n",
      "DecisionTreeClassifier\n",
      "Recall: \t0.752577319588\n",
      "Precision:\t0.760416666667\n",
      "F1 Score:\t0.756476683938\n",
      "Accuracy:\t0.999174888522\n",
      "Confusion mat: \n",
      "[[56842    23]\n",
      " [   24    73]]\n",
      "\n",
      "DecisionTreeClassifier\n",
      "Recall: \t0.80412371134\n",
      "Precision:\t0.40414507772\n",
      "F1 Score:\t0.537931034483\n",
      "Accuracy:\t0.99764755451\n",
      "Confusion mat: \n",
      "[[56750   115]\n",
      " [   19    78]]\n",
      "\n"
     ]
    }
   ],
   "source": [
    "run_compare_sampling(SMOTE, LogisticRegression, train_x_res, train_y_res, test_x, test_y,**logit_params)\n",
    "run_compare_sampling(SMOTE, QuadraticDiscriminantAnalysis, train_x, train_y, test_x, test_y)\n",
    "run_compare_sampling(SMOTE, DecisionTreeClassifier, train_x, train_y, test_x, test_y)"
   ]
  },
  {
   "cell_type": "code",
   "execution_count": 27,
   "metadata": {},
   "outputs": [
    {
     "name": "stdout",
     "output_type": "stream",
     "text": [
      "Sampler: ADASYN\n",
      "Class counts:\n",
      "[(0, 227450), (1, 227450)]\n",
      "\n",
      "LogisticRegression\n",
      "Recall: \t0.886597938144\n",
      "Precision:\t0.103365384615\n",
      "F1 Score:\t0.185145317546\n",
      "Accuracy:\t0.986710438538\n",
      "Confusion mat: \n",
      "[[56119   746]\n",
      " [   11    86]]\n",
      "\n",
      "LogisticRegression\n",
      "Recall: \t0.886597938144\n",
      "Precision:\t0.103365384615\n",
      "F1 Score:\t0.185145317546\n",
      "Accuracy:\t0.986710438538\n",
      "Confusion mat: \n",
      "[[56119   746]\n",
      " [   11    86]]\n",
      "\n",
      "Sampler: ADASYN\n",
      "Class counts:\n",
      "[(0, 227450), (1, 227397)]\n",
      "\n",
      "QuadraticDiscriminantAnalysis\n",
      "Recall: \t0.865979381443\n",
      "Precision:\t0.0569491525424\n",
      "F1 Score:\t0.106870229008\n",
      "Accuracy:\t0.975351989045\n",
      "Confusion mat: \n",
      "[[55474  1391]\n",
      " [   13    84]]\n",
      "\n",
      "QuadraticDiscriminantAnalysis\n",
      "Recall: \t0.896907216495\n",
      "Precision:\t0.0415671285237\n",
      "F1 Score:\t0.0794520547945\n",
      "Accuracy:\t0.96460798427\n",
      "Confusion mat: \n",
      "[[54859  2006]\n",
      " [   10    87]]\n",
      "\n",
      "Sampler: ADASYN\n",
      "Class counts:\n",
      "[(0, 227450), (1, 227397)]\n",
      "\n",
      "DecisionTreeClassifier\n",
      "Recall: \t0.762886597938\n",
      "Precision:\t0.762886597938\n",
      "F1 Score:\t0.762886597938\n",
      "Accuracy:\t0.999192444086\n",
      "Confusion mat: \n",
      "[[56842    23]\n",
      " [   23    74]]\n",
      "\n",
      "DecisionTreeClassifier\n",
      "Recall: \t0.79381443299\n",
      "Precision:\t0.0932203389831\n",
      "F1 Score:\t0.16684723727\n",
      "Accuracy:\t0.986499771778\n",
      "Confusion mat: \n",
      "[[56116   749]\n",
      " [   20    77]]\n",
      "\n"
     ]
    }
   ],
   "source": [
    "run_compare_sampling(ADASYN, LogisticRegression, train_x_res, train_y_res, test_x, test_y, **logit_params)\n",
    "run_compare_sampling(ADASYN, QuadraticDiscriminantAnalysis, train_x, train_y, test_x, test_y)\n",
    "run_compare_sampling(ADASYN, DecisionTreeClassifier, train_x, train_y, test_x, test_y)"
   ]
  },
  {
   "cell_type": "code",
   "execution_count": null,
   "metadata": {
    "collapsed": true
   },
   "outputs": [],
   "source": []
  }
 ],
 "metadata": {
  "kernelspec": {
   "display_name": "Python 2",
   "language": "python",
   "name": "python2"
  },
  "language_info": {
   "codemirror_mode": {
    "name": "ipython",
    "version": 2
   },
   "file_extension": ".py",
   "mimetype": "text/x-python",
   "name": "python",
   "nbconvert_exporter": "python",
   "pygments_lexer": "ipython2",
   "version": "2.7.14"
  }
 },
 "nbformat": 4,
 "nbformat_minor": 2
}
