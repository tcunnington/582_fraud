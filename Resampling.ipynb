{
 "cells": [
  {
   "cell_type": "code",
   "execution_count": 1,
   "metadata": {
    "collapsed": true
   },
   "outputs": [],
   "source": [
    "%load_ext autoreload\n",
    "%autoreload 2\n",
    "\n",
    "import pandas as pd\n",
    "import numpy as np\n",
    "import matplotlib.pyplot as plt\n",
    "import sklearn\n",
    "from sklearn import linear_model, decomposition, datasets\n",
    "from sklearn.model_selection import train_test_split\n",
    "\n",
    "from utils import *"
   ]
  },
  {
   "cell_type": "markdown",
   "metadata": {},
   "source": [
    "### Load and explore data"
   ]
  },
  {
   "cell_type": "code",
   "execution_count": 2,
   "metadata": {},
   "outputs": [
    {
     "data": {
      "text/html": [
       "<div>\n",
       "<style>\n",
       "    .dataframe thead tr:only-child th {\n",
       "        text-align: right;\n",
       "    }\n",
       "\n",
       "    .dataframe thead th {\n",
       "        text-align: left;\n",
       "    }\n",
       "\n",
       "    .dataframe tbody tr th {\n",
       "        vertical-align: top;\n",
       "    }\n",
       "</style>\n",
       "<table border=\"1\" class=\"dataframe\">\n",
       "  <thead>\n",
       "    <tr style=\"text-align: right;\">\n",
       "      <th></th>\n",
       "      <th>Time</th>\n",
       "      <th>V1</th>\n",
       "      <th>V2</th>\n",
       "      <th>V3</th>\n",
       "      <th>V4</th>\n",
       "      <th>V5</th>\n",
       "      <th>V6</th>\n",
       "      <th>V7</th>\n",
       "      <th>V8</th>\n",
       "      <th>V9</th>\n",
       "      <th>...</th>\n",
       "      <th>V21</th>\n",
       "      <th>V22</th>\n",
       "      <th>V23</th>\n",
       "      <th>V24</th>\n",
       "      <th>V25</th>\n",
       "      <th>V26</th>\n",
       "      <th>V27</th>\n",
       "      <th>V28</th>\n",
       "      <th>Amount</th>\n",
       "      <th>Class</th>\n",
       "    </tr>\n",
       "  </thead>\n",
       "  <tbody>\n",
       "    <tr>\n",
       "      <th>0</th>\n",
       "      <td>0.0</td>\n",
       "      <td>-1.359807</td>\n",
       "      <td>-0.072781</td>\n",
       "      <td>2.536347</td>\n",
       "      <td>1.378155</td>\n",
       "      <td>-0.338321</td>\n",
       "      <td>0.462388</td>\n",
       "      <td>0.239599</td>\n",
       "      <td>0.098698</td>\n",
       "      <td>0.363787</td>\n",
       "      <td>...</td>\n",
       "      <td>-0.018307</td>\n",
       "      <td>0.277838</td>\n",
       "      <td>-0.110474</td>\n",
       "      <td>0.066928</td>\n",
       "      <td>0.128539</td>\n",
       "      <td>-0.189115</td>\n",
       "      <td>0.133558</td>\n",
       "      <td>-0.021053</td>\n",
       "      <td>149.62</td>\n",
       "      <td>0</td>\n",
       "    </tr>\n",
       "    <tr>\n",
       "      <th>1</th>\n",
       "      <td>0.0</td>\n",
       "      <td>1.191857</td>\n",
       "      <td>0.266151</td>\n",
       "      <td>0.166480</td>\n",
       "      <td>0.448154</td>\n",
       "      <td>0.060018</td>\n",
       "      <td>-0.082361</td>\n",
       "      <td>-0.078803</td>\n",
       "      <td>0.085102</td>\n",
       "      <td>-0.255425</td>\n",
       "      <td>...</td>\n",
       "      <td>-0.225775</td>\n",
       "      <td>-0.638672</td>\n",
       "      <td>0.101288</td>\n",
       "      <td>-0.339846</td>\n",
       "      <td>0.167170</td>\n",
       "      <td>0.125895</td>\n",
       "      <td>-0.008983</td>\n",
       "      <td>0.014724</td>\n",
       "      <td>2.69</td>\n",
       "      <td>0</td>\n",
       "    </tr>\n",
       "    <tr>\n",
       "      <th>2</th>\n",
       "      <td>1.0</td>\n",
       "      <td>-1.358354</td>\n",
       "      <td>-1.340163</td>\n",
       "      <td>1.773209</td>\n",
       "      <td>0.379780</td>\n",
       "      <td>-0.503198</td>\n",
       "      <td>1.800499</td>\n",
       "      <td>0.791461</td>\n",
       "      <td>0.247676</td>\n",
       "      <td>-1.514654</td>\n",
       "      <td>...</td>\n",
       "      <td>0.247998</td>\n",
       "      <td>0.771679</td>\n",
       "      <td>0.909412</td>\n",
       "      <td>-0.689281</td>\n",
       "      <td>-0.327642</td>\n",
       "      <td>-0.139097</td>\n",
       "      <td>-0.055353</td>\n",
       "      <td>-0.059752</td>\n",
       "      <td>378.66</td>\n",
       "      <td>0</td>\n",
       "    </tr>\n",
       "    <tr>\n",
       "      <th>3</th>\n",
       "      <td>1.0</td>\n",
       "      <td>-0.966272</td>\n",
       "      <td>-0.185226</td>\n",
       "      <td>1.792993</td>\n",
       "      <td>-0.863291</td>\n",
       "      <td>-0.010309</td>\n",
       "      <td>1.247203</td>\n",
       "      <td>0.237609</td>\n",
       "      <td>0.377436</td>\n",
       "      <td>-1.387024</td>\n",
       "      <td>...</td>\n",
       "      <td>-0.108300</td>\n",
       "      <td>0.005274</td>\n",
       "      <td>-0.190321</td>\n",
       "      <td>-1.175575</td>\n",
       "      <td>0.647376</td>\n",
       "      <td>-0.221929</td>\n",
       "      <td>0.062723</td>\n",
       "      <td>0.061458</td>\n",
       "      <td>123.50</td>\n",
       "      <td>0</td>\n",
       "    </tr>\n",
       "    <tr>\n",
       "      <th>4</th>\n",
       "      <td>2.0</td>\n",
       "      <td>-1.158233</td>\n",
       "      <td>0.877737</td>\n",
       "      <td>1.548718</td>\n",
       "      <td>0.403034</td>\n",
       "      <td>-0.407193</td>\n",
       "      <td>0.095921</td>\n",
       "      <td>0.592941</td>\n",
       "      <td>-0.270533</td>\n",
       "      <td>0.817739</td>\n",
       "      <td>...</td>\n",
       "      <td>-0.009431</td>\n",
       "      <td>0.798278</td>\n",
       "      <td>-0.137458</td>\n",
       "      <td>0.141267</td>\n",
       "      <td>-0.206010</td>\n",
       "      <td>0.502292</td>\n",
       "      <td>0.219422</td>\n",
       "      <td>0.215153</td>\n",
       "      <td>69.99</td>\n",
       "      <td>0</td>\n",
       "    </tr>\n",
       "  </tbody>\n",
       "</table>\n",
       "<p>5 rows × 31 columns</p>\n",
       "</div>"
      ],
      "text/plain": [
       "   Time        V1        V2        V3        V4        V5        V6        V7  \\\n",
       "0   0.0 -1.359807 -0.072781  2.536347  1.378155 -0.338321  0.462388  0.239599   \n",
       "1   0.0  1.191857  0.266151  0.166480  0.448154  0.060018 -0.082361 -0.078803   \n",
       "2   1.0 -1.358354 -1.340163  1.773209  0.379780 -0.503198  1.800499  0.791461   \n",
       "3   1.0 -0.966272 -0.185226  1.792993 -0.863291 -0.010309  1.247203  0.237609   \n",
       "4   2.0 -1.158233  0.877737  1.548718  0.403034 -0.407193  0.095921  0.592941   \n",
       "\n",
       "         V8        V9  ...         V21       V22       V23       V24  \\\n",
       "0  0.098698  0.363787  ...   -0.018307  0.277838 -0.110474  0.066928   \n",
       "1  0.085102 -0.255425  ...   -0.225775 -0.638672  0.101288 -0.339846   \n",
       "2  0.247676 -1.514654  ...    0.247998  0.771679  0.909412 -0.689281   \n",
       "3  0.377436 -1.387024  ...   -0.108300  0.005274 -0.190321 -1.175575   \n",
       "4 -0.270533  0.817739  ...   -0.009431  0.798278 -0.137458  0.141267   \n",
       "\n",
       "        V25       V26       V27       V28  Amount  Class  \n",
       "0  0.128539 -0.189115  0.133558 -0.021053  149.62      0  \n",
       "1  0.167170  0.125895 -0.008983  0.014724    2.69      0  \n",
       "2 -0.327642 -0.139097 -0.055353 -0.059752  378.66      0  \n",
       "3  0.647376 -0.221929  0.062723  0.061458  123.50      0  \n",
       "4 -0.206010  0.502292  0.219422  0.215153   69.99      0  \n",
       "\n",
       "[5 rows x 31 columns]"
      ]
     },
     "execution_count": 2,
     "metadata": {},
     "output_type": "execute_result"
    }
   ],
   "source": [
    "data = pd.read_csv('data/creditcard.csv')\n",
    "data.head()"
   ]
  },
  {
   "cell_type": "code",
   "execution_count": 3,
   "metadata": {
    "collapsed": true
   },
   "outputs": [],
   "source": [
    "fradulent = data[data['Class'] == 1]\n",
    "legit = data[data['Class'] == 0]"
   ]
  },
  {
   "cell_type": "code",
   "execution_count": 4,
   "metadata": {},
   "outputs": [
    {
     "data": {
      "image/png": "[encoded data removed]",
      "text/plain": [
       "<matplotlib.figure.Figure at 0x1a13513f50>"
      ]
     },
     "metadata": {},
     "output_type": "display_data"
    }
   ],
   "source": [
    "col_names = list(data.columns)[1:-1] ## TODO what is this?\n",
    "tile_random_features(col_names, data)"
   ]
  },
  {
   "cell_type": "markdown",
   "metadata": {},
   "source": [
    "### Prep data"
   ]
  },
  {
   "cell_type": "code",
   "execution_count": 5,
   "metadata": {},
   "outputs": [
    {
     "name": "stdout",
     "output_type": "stream",
     "text": [
      "% of fraud cases in original, train, and test sets:\n",
      "0.00172748563062\n",
      "0.00168974522153\n",
      "0.00187844527931\n"
     ]
    }
   ],
   "source": [
    "train, test = train_test_split(data, test_size=0.2)\n",
    "\n",
    "print '% of fraud cases in original, train, and test sets:'\n",
    "print len(fradulent)*1.0/len(data)\n",
    "print len(train[train['Class']==1])*1.0/len(train)\n",
    "print len(test[test['Class']==1])*1.0/len(test)"
   ]
  },
  {
   "cell_type": "code",
   "execution_count": 6,
   "metadata": {
    "collapsed": true
   },
   "outputs": [],
   "source": [
    "# Split into features / class labels\n",
    "train_x, train_y = [df.as_matrix() for df in split_by_class(train)]\n",
    "test_x, test_y = [df.as_matrix() for df in split_by_class(test)]"
   ]
  },
  {
   "cell_type": "markdown",
   "metadata": {},
   "source": [
    "## Performance Metrics"
   ]
  },
  {
   "cell_type": "markdown",
   "metadata": {},
   "source": [
    "Note that a dumb majority class classifier has incredible accuracy!"
   ]
  },
  {
   "cell_type": "code",
   "execution_count": 7,
   "metadata": {},
   "outputs": [
    {
     "data": {
      "text/plain": [
       "0.99812155472069097"
      ]
     },
     "execution_count": 7,
     "metadata": {},
     "output_type": "execute_result"
    }
   ],
   "source": [
    "from sklearn.metrics import accuracy_score\n",
    "bs_pred = np.zeros(test_y.shape)\n",
    "accuracy_score(test_y, bs_pred)"
   ]
  },
  {
   "cell_type": "markdown",
   "metadata": {},
   "source": [
    "That's hard to beat!\n",
    "\n",
    "However what we really care about is not primarily accurancy. We want high recall so that we can find as much fraud ass possible while not creating _too_ many false positives"
   ]
  },
  {
   "cell_type": "code",
   "execution_count": 8,
   "metadata": {},
   "outputs": [
    {
     "name": "stdout",
     "output_type": "stream",
     "text": [
      "Recall:\n"
     ]
    },
    {
     "data": {
      "text/plain": [
       "0.0"
      ]
     },
     "execution_count": 8,
     "metadata": {},
     "output_type": "execute_result"
    }
   ],
   "source": [
    "from sklearn.metrics import recall_score\n",
    "print \"Recall:\"\n",
    "recall_score(test_y, bs_pred)"
   ]
  },
  {
   "cell_type": "markdown",
   "metadata": {},
   "source": [
    "Recall is quite bad, making this a very poor classifier for finding fraud"
   ]
  },
  {
   "cell_type": "markdown",
   "metadata": {},
   "source": [
    "Thus we will try to find a sampling methods that has good recall and better-than-horrible precision (or alternatively, high accurancy)."
   ]
  },
  {
   "cell_type": "markdown",
   "metadata": {},
   "source": [
    "## Implement sampling methods on training data"
   ]
  },
  {
   "cell_type": "markdown",
   "metadata": {},
   "source": [
    "According to we background we did to test different classifiers we are going to test our sampling methods on 3 classifiers: Logistic Regression, QDA, and Decision Trees (CART)"
   ]
  },
  {
   "cell_type": "code",
   "execution_count": 9,
   "metadata": {
    "collapsed": true
   },
   "outputs": [],
   "source": [
    "from sklearn.discriminant_analysis import QuadraticDiscriminantAnalysis\n",
    "from sklearn.naive_bayes import GaussianNB\n",
    "from sklearn.tree import DecisionTreeClassifier\n",
    "from sklearn.linear_model import LogisticRegression"
   ]
  },
  {
   "cell_type": "code",
   "execution_count": 10,
   "metadata": {
    "collapsed": true
   },
   "outputs": [],
   "source": [
    "# best results from hyper parameter search\n",
    "logit_params = {'penalty': 'l2', 'C': 0.01}"
   ]
  },
  {
   "cell_type": "markdown",
   "metadata": {},
   "source": [
    "### Over sampling"
   ]
  },
  {
   "cell_type": "code",
   "execution_count": 11,
   "metadata": {},
   "outputs": [
    {
     "name": "stdout",
     "output_type": "stream",
     "text": [
      "Class counts:\n",
      "[(0, 227460), (1, 227460)]\n"
     ]
    }
   ],
   "source": [
    "from imblearn.over_sampling import RandomOverSampler\n",
    "train_x_res, train_y_res = RandomOverSampler().fit_sample(train_x, train_y)\n",
    "print_class_counts(train_y_res)"
   ]
  },
  {
   "cell_type": "code",
   "execution_count": 12,
   "metadata": {},
   "outputs": [
    {
     "name": "stdout",
     "output_type": "stream",
     "text": [
      "Sampler: RandomOverSampler\n",
      "Class counts:\n",
      "[(0, 227460), (1, 227460)]\n",
      "\n",
      "LogisticRegression\n",
      "Recall: \t0.906542056075\n",
      "Precision:\t0.0654520917679\n",
      "F1 Score:\t0.12208936438\n",
      "Accuracy:\t0.975509989116\n",
      "Confusion mat: \n",
      "[[55470  1385]\n",
      " [   10    97]]\n",
      "\n",
      "LogisticRegression\n",
      "Recall: \t0.906542056075\n",
      "Precision:\t0.0654520917679\n",
      "F1 Score:\t0.12208936438\n",
      "Accuracy:\t0.975509989116\n",
      "Confusion mat: \n",
      "[[55470  1385]\n",
      " [   10    97]]\n",
      "\n",
      "Sampler: RandomOverSampler\n",
      "Class counts:\n",
      "[(0, 227460), (1, 227460)]\n",
      "\n",
      "QuadraticDiscriminantAnalysis\n",
      "Recall: \t0.88785046729\n",
      "Precision:\t0.0620509470934\n",
      "F1 Score:\t0.115995115995\n",
      "Accuracy:\t0.974579544258\n",
      "Confusion mat: \n",
      "[[55419  1436]\n",
      " [   12    95]]\n",
      "\n",
      "QuadraticDiscriminantAnalysis\n",
      "Recall: \t0.88785046729\n",
      "Precision:\t0.0458052073288\n",
      "F1 Score:\t0.087116001834\n",
      "Accuracy:\t0.965046873354\n",
      "Confusion mat: \n",
      "[[54876  1979]\n",
      " [   12    95]]\n",
      "\n",
      "Sampler: RandomOverSampler\n",
      "Class counts:\n",
      "[(0, 227460), (1, 227460)]\n",
      "\n",
      "DecisionTreeClassifier\n",
      "Recall: \t0.728971962617\n",
      "Precision:\t0.735849056604\n",
      "F1 Score:\t0.732394366197\n",
      "Accuracy:\t0.998999332889\n",
      "Confusion mat: \n",
      "[[56827    28]\n",
      " [   29    78]]\n",
      "\n",
      "DecisionTreeClassifier\n",
      "Recall: \t0.747663551402\n",
      "Precision:\t0.78431372549\n",
      "F1 Score:\t0.765550239234\n",
      "Accuracy:\t0.999139777395\n",
      "Confusion mat: \n",
      "[[56833    22]\n",
      " [   27    80]]\n",
      "\n"
     ]
    }
   ],
   "source": [
    "run_compare_sampling(RandomOverSampler, LogisticRegression, train_x_res, train_y_res, test_x, test_y, **logit_params)\n",
    "run_compare_sampling(RandomOverSampler, QuadraticDiscriminantAnalysis, train_x, train_y, test_x, test_y)\n",
    "run_compare_sampling(RandomOverSampler, DecisionTreeClassifier, train_x, train_y, test_x, test_y)"
   ]
  },
  {
   "cell_type": "markdown",
   "metadata": {},
   "source": [
    "### Under sampling"
   ]
  },
  {
   "cell_type": "code",
   "execution_count": 13,
   "metadata": {},
   "outputs": [
    {
     "name": "stdout",
     "output_type": "stream",
     "text": [
      "Class counts:\n",
      "[(0, 385), (1, 385)]\n"
     ]
    }
   ],
   "source": [
    "from imblearn.under_sampling import RandomUnderSampler\n",
    "train_x_res, train_y_res = RandomUnderSampler().fit_sample(train_x, train_y)\n",
    "print_class_counts(train_y_res)"
   ]
  },
  {
   "cell_type": "code",
   "execution_count": 14,
   "metadata": {},
   "outputs": [
    {
     "name": "stdout",
     "output_type": "stream",
     "text": [
      "Sampler: RandomUnderSampler\n",
      "Class counts:\n",
      "[(0, 385), (1, 385)]\n",
      "\n",
      "LogisticRegression\n",
      "Recall: \t0.897196261682\n",
      "Precision:\t0.0723436322532\n",
      "F1 Score:\t0.133891213389\n",
      "Accuracy:\t0.978195990309\n",
      "Confusion mat: \n",
      "[[55624  1231]\n",
      " [   11    96]]\n",
      "\n",
      "LogisticRegression\n",
      "Recall: \t0.897196261682\n",
      "Precision:\t0.0726172465961\n",
      "F1 Score:\t0.134359692092\n",
      "Accuracy:\t0.978283768126\n",
      "Confusion mat: \n",
      "[[55629  1226]\n",
      " [   11    96]]\n",
      "\n",
      "Sampler: RandomUnderSampler\n",
      "Class counts:\n",
      "[(0, 385), (1, 385)]\n",
      "\n",
      "QuadraticDiscriminantAnalysis\n",
      "Recall: \t0.88785046729\n",
      "Precision:\t0.0620509470934\n",
      "F1 Score:\t0.115995115995\n",
      "Accuracy:\t0.974579544258\n",
      "Confusion mat: \n",
      "[[55419  1436]\n",
      " [   12    95]]\n",
      "\n",
      "QuadraticDiscriminantAnalysis\n",
      "Recall: \t0.915887850467\n",
      "Precision:\t0.0252577319588\n",
      "F1 Score:\t0.0491597692501\n",
      "Accuracy:\t0.93344685931\n",
      "Confusion mat: \n",
      "[[53073  3782]\n",
      " [    9    98]]\n",
      "\n",
      "Sampler: RandomUnderSampler\n",
      "Class counts:\n",
      "[(0, 385), (1, 385)]\n",
      "\n",
      "DecisionTreeClassifier\n",
      "Recall: \t0.728971962617\n",
      "Precision:\t0.75\n",
      "F1 Score:\t0.739336492891\n",
      "Accuracy:\t0.999034444015\n",
      "Confusion mat: \n",
      "[[56829    26]\n",
      " [   29    78]]\n",
      "\n",
      "DecisionTreeClassifier\n",
      "Recall: \t0.92523364486\n",
      "Precision:\t0.0204165807383\n",
      "F1 Score:\t0.0399515738499\n",
      "Accuracy:\t0.916470629543\n",
      "Confusion mat: \n",
      "[[52105  4750]\n",
      " [    8    99]]\n",
      "\n"
     ]
    }
   ],
   "source": [
    "run_compare_sampling(RandomUnderSampler, LogisticRegression, train_x_res, train_y_res, test_x, test_y,**logit_params)\n",
    "run_compare_sampling(RandomUnderSampler, QuadraticDiscriminantAnalysis, train_x, train_y, test_x, test_y)\n",
    "run_compare_sampling(RandomUnderSampler, DecisionTreeClassifier, train_x, train_y, test_x, test_y)"
   ]
  },
  {
   "cell_type": "markdown",
   "metadata": {},
   "source": [
    "### SMOTE/ADASYN oversampling"
   ]
  },
  {
   "cell_type": "code",
   "execution_count": 15,
   "metadata": {},
   "outputs": [
    {
     "name": "stdout",
     "output_type": "stream",
     "text": [
      "Class counts:\n",
      "[(0, 227460), (1, 227460)]\n"
     ]
    }
   ],
   "source": [
    "from imblearn.over_sampling import SMOTE, ADASYN\n",
    "train_x_res, train_y_res = SMOTE(kind='regular').fit_sample(train_x, train_y)\n",
    "print_class_counts(train_y_res)"
   ]
  },
  {
   "cell_type": "code",
   "execution_count": 16,
   "metadata": {},
   "outputs": [
    {
     "data": {
      "image/png": "[encoded data removed]",
      "text/plain": [
       "<matplotlib.figure.Figure at 0x1a147f0290>"
      ]
     },
     "metadata": {},
     "output_type": "display_data"
    }
   ],
   "source": [
    "minorty = train_x_res[train_y_res == 1]\n",
    "col_names = fradulent.columns\n",
    "cols = (1,3)\n",
    "\n",
    "fig, axarr = plt.subplots(1,2,sharey=True,figsize=(10,5))\n",
    "ax_orig = axarr[0]\n",
    "ax_smote = axarr[1]\n",
    "\n",
    "ax_orig.scatter(fradulent[col_names[cols[0]]],fradulent[col_names[cols[1]]])\n",
    "ax_orig.set_title('Original fraud data')\n",
    "ax_orig.set_ylabel(col_names[cols[0]])\n",
    "ax_orig.set_xlabel(col_names[cols[1]])\n",
    "\n",
    "ax_smote.scatter(minorty[:,cols[0]], minorty[:,cols[1]])\n",
    "ax_smote.set_title('SMOTE')\n",
    "ax_smote.set_xlabel(col_names[cols[1]])\n",
    "\n",
    "plt.show()"
   ]
  },
  {
   "cell_type": "code",
   "execution_count": 17,
   "metadata": {},
   "outputs": [
    {
     "name": "stdout",
     "output_type": "stream",
     "text": [
      "Sampler: SMOTE\n",
      "Class counts:\n",
      "[(0, 227460), (1, 227460)]\n",
      "\n",
      "LogisticRegression\n",
      "Recall: \t0.869158878505\n",
      "Precision:\t0.104494382022\n",
      "F1 Score:\t0.186559679037\n",
      "Accuracy:\t0.985762438117\n",
      "Confusion mat: \n",
      "[[56058   797]\n",
      " [   14    93]]\n",
      "\n",
      "LogisticRegression\n",
      "Recall: \t0.869158878505\n",
      "Precision:\t0.104494382022\n",
      "F1 Score:\t0.186559679037\n",
      "Accuracy:\t0.985762438117\n",
      "Confusion mat: \n",
      "[[56058   797]\n",
      " [   14    93]]\n",
      "\n",
      "Sampler: SMOTE\n",
      "Class counts:\n",
      "[(0, 227460), (1, 227460)]\n",
      "\n",
      "QuadraticDiscriminantAnalysis\n",
      "Recall: \t0.88785046729\n",
      "Precision:\t0.0620509470934\n",
      "F1 Score:\t0.115995115995\n",
      "Accuracy:\t0.974579544258\n",
      "Confusion mat: \n",
      "[[55419  1436]\n",
      " [   12    95]]\n",
      "\n",
      "QuadraticDiscriminantAnalysis\n",
      "Recall: \t0.88785046729\n",
      "Precision:\t0.0600126342388\n",
      "F1 Score:\t0.112426035503\n",
      "Accuracy:\t0.973666654963\n",
      "Confusion mat: \n",
      "[[55367  1488]\n",
      " [   12    95]]\n",
      "\n",
      "Sampler: SMOTE\n",
      "Class counts:\n",
      "[(0, 227460), (1, 227460)]\n",
      "\n",
      "DecisionTreeClassifier\n",
      "Recall: \t0.775700934579\n",
      "Precision:\t0.741071428571\n",
      "F1 Score:\t0.75799086758\n",
      "Accuracy:\t0.999069555142\n",
      "Confusion mat: \n",
      "[[56826    29]\n",
      " [   24    83]]\n",
      "\n",
      "DecisionTreeClassifier\n",
      "Recall: \t0.785046728972\n",
      "Precision:\t0.459016393443\n",
      "F1 Score:\t0.579310344828\n",
      "Accuracy:\t0.99785822127\n",
      "Confusion mat: \n",
      "[[56756    99]\n",
      " [   23    84]]\n",
      "\n"
     ]
    }
   ],
   "source": [
    "run_compare_sampling(SMOTE, LogisticRegression, train_x_res, train_y_res, test_x, test_y,**logit_params)\n",
    "run_compare_sampling(SMOTE, QuadraticDiscriminantAnalysis, train_x, train_y, test_x, test_y)\n",
    "run_compare_sampling(SMOTE, DecisionTreeClassifier, train_x, train_y, test_x, test_y)"
   ]
  },
  {
   "cell_type": "code",
   "execution_count": 18,
   "metadata": {},
   "outputs": [
    {
     "name": "stdout",
     "output_type": "stream",
     "text": [
      "Sampler: ADASYN\n",
      "Class counts:\n",
      "[(0, 227460), (1, 227460)]\n",
      "\n",
      "LogisticRegression\n",
      "Recall: \t0.869158878505\n",
      "Precision:\t0.104494382022\n",
      "F1 Score:\t0.186559679037\n",
      "Accuracy:\t0.985762438117\n",
      "Confusion mat: \n",
      "[[56058   797]\n",
      " [   14    93]]\n",
      "\n",
      "LogisticRegression\n",
      "Recall: \t0.869158878505\n",
      "Precision:\t0.104494382022\n",
      "F1 Score:\t0.186559679037\n",
      "Accuracy:\t0.985762438117\n",
      "Confusion mat: \n",
      "[[56058   797]\n",
      " [   14    93]]\n",
      "\n",
      "Sampler: ADASYN\n",
      "Class counts:\n",
      "[(0, 227460), (1, 227495)]\n",
      "\n",
      "QuadraticDiscriminantAnalysis\n",
      "Recall: \t0.88785046729\n",
      "Precision:\t0.0620509470934\n",
      "F1 Score:\t0.115995115995\n",
      "Accuracy:\t0.974579544258\n",
      "Confusion mat: \n",
      "[[55419  1436]\n",
      " [   12    95]]\n",
      "\n",
      "QuadraticDiscriminantAnalysis\n",
      "Recall: \t0.88785046729\n",
      "Precision:\t0.0438394093216\n",
      "F1 Score:\t0.0835532102023\n",
      "Accuracy:\t0.963414205962\n",
      "Confusion mat: \n",
      "[[54783  2072]\n",
      " [   12    95]]\n",
      "\n",
      "Sampler: ADASYN\n",
      "Class counts:\n",
      "[(0, 227460), (1, 227495)]\n",
      "\n",
      "DecisionTreeClassifier\n",
      "Recall: \t0.747663551402\n",
      "Precision:\t0.78431372549\n",
      "F1 Score:\t0.765550239234\n",
      "Accuracy:\t0.999139777395\n",
      "Confusion mat: \n",
      "[[56833    22]\n",
      " [   27    80]]\n",
      "\n",
      "DecisionTreeClassifier\n",
      "Recall: \t0.803738317757\n",
      "Precision:\t0.100116414435\n",
      "F1 Score:\t0.178053830228\n",
      "Accuracy:\t0.986060882694\n",
      "Confusion mat: \n",
      "[[56082   773]\n",
      " [   21    86]]\n",
      "\n"
     ]
    }
   ],
   "source": [
    "run_compare_sampling(ADASYN, LogisticRegression, train_x_res, train_y_res, test_x, test_y, **logit_params)\n",
    "run_compare_sampling(ADASYN, QuadraticDiscriminantAnalysis, train_x, train_y, test_x, test_y)\n",
    "run_compare_sampling(ADASYN, DecisionTreeClassifier, train_x, train_y, test_x, test_y)"
   ]
  },
  {
   "cell_type": "code",
   "execution_count": 25,
   "metadata": {},
   "outputs": [
    {
     "data": {
      "text/plain": [
       "(284807, 492)"
      ]
     },
     "execution_count": 25,
     "metadata": {},
     "output_type": "execute_result"
    }
   ],
   "source": [
    "len(data), len(fradulent)"
   ]
  },
  {
   "cell_type": "code",
   "execution_count": null,
   "metadata": {
    "collapsed": true
   },
   "outputs": [],
   "source": []
  }
 ],
 "metadata": {
  "kernelspec": {
   "display_name": "Python 2",
   "language": "python",
   "name": "python2"
  },
  "language_info": {
   "codemirror_mode": {
    "name": "ipython",
    "version": 2
   },
   "file_extension": ".py",
   "mimetype": "text/x-python",
   "name": "python",
   "nbconvert_exporter": "python",
   "pygments_lexer": "ipython2",
   "version": "2.7.14"
  }
 },
 "nbformat": 4,
 "nbformat_minor": 2
}
